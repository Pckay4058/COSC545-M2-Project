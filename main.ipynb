{
 "cells": [
  {
   "cell_type": "code",
   "execution_count": 1,
   "metadata": {},
   "outputs": [
    {
     "name": "stdout",
     "output_type": "stream",
     "text": [
      "attempting to load model\n",
      "model loaded successfully\n"
     ]
    }
   ],
   "source": [
    "import re\n",
    "from pathlib import Path\n",
    "\n",
    "import spacy, pandas as pd, gensim as gn\n",
    "import gensim.corpora as corpora\n",
    "from gensim.corpora.dictionary import Dictionary\n",
    "from gensim.models.ldamulticore import LdaMulticore, LdaModel\n",
    "# from gensim.models.ldamodel import LdaModel\n",
    "\n",
    "# spacy internal setup\n",
    "if not 'nlp' in locals():\n",
    "    model_loaded: bool = False\n",
    "    while not model_loaded:\n",
    "        # we keep trying until this works...\n",
    "        try:\n",
    "            print(\"attempting to load model\")\n",
    "            # attempt to load the spacy model\n",
    "            nlp: spacy.Language = spacy.load(\"en_core_web_sm\")\n",
    "            print(\"model loaded successfully\")\n",
    "            model_loaded = True\n",
    "        except BaseException as e:\n",
    "            print(\"model failed to load\")\n",
    "            # if we fail to load the model, we are going to make\n",
    "            # sure the package is installed...\n",
    "            from spacy.cli import download\n",
    "            download(\"en_core_web_sm\")\n",
    "            # then loop around and try to load it again"
   ]
  },
  {
   "cell_type": "code",
   "execution_count": 2,
   "metadata": {},
   "outputs": [],
   "source": [
    "path_root: Path = Path(\".\").resolve()"
   ]
  },
  {
   "cell_type": "code",
   "execution_count": 3,
   "metadata": {},
   "outputs": [],
   "source": [
    "md_text_raw: str = path_root.joinpath(\"moby_dick.txt\").read_text('utf-8')"
   ]
  },
  {
   "cell_type": "markdown",
   "metadata": {},
   "source": [
    "# Preprocess the text"
   ]
  },
  {
   "cell_type": "code",
   "execution_count": 4,
   "metadata": {},
   "outputs": [],
   "source": [
    "# DEFINE SOME USEFUL VARIABLES FOR PREPROCESSING\n",
    "# utf-8 codes for some characters in the text\n",
    "dq_op: str = \"\\u201C\" # double quotes open\n",
    "dq_cl: str = \"\\u201D\" # double quotes close\n",
    "sq_op: str = \"\\u2018\" # single quote open\n",
    "sq_cl: str = \"\\u2019\" # single quote close\n",
    "under: str = \"\\u005F\" # underscore\n",
    "hyphe: str = \"\\u002D\" # hyphen/minus\n",
    "mdash: str = \"\\u2014\" # em dash"
   ]
  },
  {
   "cell_type": "code",
   "execution_count": 5,
   "metadata": {},
   "outputs": [],
   "source": [
    "# replace newlines and carriage returns with whitespace\n",
    "md_text: str = re.sub(\"[\\n\\r]\", \" \", md_text_raw)\n",
    "# remove everything before the first chapter\n",
    "md_text = re.sub(\"[\\w\\W]*(?=CHAPTER 1\\. Loomings)\", \"\", md_text, count=1)\n",
    "# remove everything after the end of the epilogue\n",
    "md_text = re.sub(\"\\s*(\\*\\*\\* END)[\\w\\W]+\", \"\", md_text, count=1)\n",
    "# there are some weird embedded books in the middle of the text\n",
    "# first we remove the in-betweens of the embedded books\n",
    "md_text = re.sub(\"(Thus ends BOOK[\\w\\W]+?)([\\w\\W]+?BOOK[\\w\\W]+?)(?=\\s\\s)\", \"\", md_text)\n",
    "# then we get rid of the chapter headings of the embedded books\n",
    "md_text = re.sub(\"BOOK\\s+[IV]+([\\w\\W]+?(?=CHAPTER)CHAPTER\\s+[IV\\d]+\\.\\s+[\\w\\W]+?(?=\\.)\\.)?\", \"\", md_text)\n",
    "# CLEANING UP IMPORTANT UTF-8 CHARACTERS\n",
    "# replace all utf single quotes with ascii single quotes\n",
    "md_text = re.sub(f\"{sq_op}|{sq_cl}\", \"\\'\", md_text)\n",
    "# replace all utf double quotes with ascii double quotes\n",
    "md_text = re.sub(f\"{dq_op}|{dq_cl}\", \"\\\"\", md_text)\n",
    "# replace utf underscores with ascii\n",
    "md_text = re.sub(f\"{under}\", \"_\", md_text)\n",
    "# replace utf hyphens with ascii\n",
    "md_text = re.sub(f\"{hyphe}\", \"-\", md_text)\n",
    "# replace utf em dash with hyphen\n",
    "md_text = re.sub(f\"{mdash}\", \"-\", md_text)\n",
    "# next (and I don't know if this is a good idea...) we're going to replace\n",
    "# all punctuation that is NOT a:\n",
    "# . or ! or ? or whitespace or \"\n",
    "md_text = re.sub(\"[^\\w\\d\\s\\.\\\"?!]\", \" \", md_text)\n",
    "# finally, we want to replace repeated whitespace with single whitespace\n",
    "md_text = re.sub(\"\\s+\", \" \", md_text)"
   ]
  },
  {
   "cell_type": "code",
   "execution_count": 6,
   "metadata": {},
   "outputs": [],
   "source": [
    "# defining a function to contain intermediate variables\n",
    "def split_chapters(text: str) -> dict[str, str]:\n",
    "    # build a list of the chapter titles and their contents\n",
    "    list_results: list[str] = [result.strip() for result in re.split(\"(CHAPTER\\s\\d+\\.\\s)|(Epilogue)\", text) if result != \"\" and result is not None]\n",
    "    # use that list to create a dictionary that is {chapter_title: chapter_content}\n",
    "    return {x: list_results[i+1] for i, x in enumerate(list_results) if re.match(\"(CHAPTER\\s\\d+\\.)|(Epilogue)\", x)}\n",
    "# run the processed text through the chapter splitter\n",
    "dict_chapters: dict[str, str] = split_chapters(md_text)\n",
    "# dict_chapters"
   ]
  },
  {
   "cell_type": "code",
   "execution_count": 7,
   "metadata": {},
   "outputs": [],
   "source": [
    "# instantiate the spacy nlp object\n",
    "# this object contains all of the functionality for\n",
    "# turning a string or list of strings into spacy \"Documents\"\n",
    "\"\"\"we no longer need to do the following line as it's loaded with the imports\"\"\"\n",
    "# nlp: spacy.Language = spacy.load(\"en_core_web_sm\")\n",
    "\n",
    "# we CAN add pipelines here though\n",
    "nlp.add_pipe(\"merge_noun_chunks\")\n",
    "\n",
    "# our book is a little too long for the default\n",
    "# processing limit so we increase it slightly\n",
    "nlp.max_length = 1200000"
   ]
  },
  {
   "cell_type": "code",
   "execution_count": 8,
   "metadata": {},
   "outputs": [],
   "source": [
    "# let spacy process the full text\n",
    "# this produces a \"Document\"\n",
    "# the document is a tokenized representation of the full\n",
    "# text with a bunch of extra information attached to the tokens\n",
    "doc = nlp(md_text)"
   ]
  },
  {
   "cell_type": "code",
   "execution_count": 9,
   "metadata": {},
   "outputs": [],
   "source": [
    "# spacy stores things like parts of speech as integer tags\n",
    "# we can use this reverse lookup table to get the string label\n",
    "lookup: dict[int, str] = {y: x for x, y in spacy.symbols.IDS.items()}"
   ]
  },
  {
   "cell_type": "code",
   "execution_count": 10,
   "metadata": {},
   "outputs": [],
   "source": [
    "# we can now build a list of all things that are like nouns for the full text\n",
    "noun_alikes: list[str] = [x.text for x in doc if lookup[x.pos] in {\"NOUN\", \"PROPN\", \"PRON\"}]"
   ]
  },
  {
   "cell_type": "code",
   "execution_count": 11,
   "metadata": {},
   "outputs": [],
   "source": [
    "# using pandas we build a series from the noun_alikes list\n",
    "nouns: pd.Series = pd.Series(noun_alikes)\n",
    "# that we can use to get the unique nouns and how many times they appear in the text\n",
    "nouns_counts: pd.Series = nouns.value_counts()"
   ]
  },
  {
   "cell_type": "code",
   "execution_count": 12,
   "metadata": {},
   "outputs": [
    {
     "data": {
      "text/plain": [
       "it                2187\n",
       "I                 2074\n",
       "he                1643\n",
       "him               1054\n",
       "that               863\n",
       "                  ... \n",
       "one voyage           1\n",
       "the logs             1\n",
       "many hunters         1\n",
       "given waters         1\n",
       "another orphan       1\n",
       "Name: count, Length: 27214, dtype: int64"
      ]
     },
     "execution_count": 12,
     "metadata": {},
     "output_type": "execute_result"
    }
   ],
   "source": [
    "nouns_counts"
   ]
  },
  {
   "cell_type": "code",
   "execution_count": 13,
   "metadata": {},
   "outputs": [],
   "source": [
    "# bigram_mod = gensim.models.phrases.Phraser()"
   ]
  },
  {
   "cell_type": "code",
   "execution_count": 14,
   "metadata": {},
   "outputs": [
    {
     "data": {
      "text/plain": [
       "[CHAPTER, 1, .]"
      ]
     },
     "execution_count": 14,
     "metadata": {},
     "output_type": "execute_result"
    }
   ],
   "source": [
    "[x for x in list(doc.sents)[0].as_doc()]"
   ]
  },
  {
   "cell_type": "code",
   "execution_count": 15,
   "metadata": {},
   "outputs": [],
   "source": [
    "# culling the tokens to get rid of the punctuation tokens and stopwords.\n",
    "tokens_filtered: list[str] = [\n",
    "    token.lemma_ for token in doc if \n",
    "    not token.is_stop\n",
    "    and not token.is_punct\n",
    "    and not token.is_digit\n",
    "]"
   ]
  },
  {
   "cell_type": "code",
   "execution_count": 16,
   "metadata": {},
   "outputs": [],
   "source": [
    "texts: list[list[str]] = [\n",
    "    [\n",
    "        token.text for token in sentence.as_doc() if\n",
    "        not token.is_stop\n",
    "        and not token.is_punct\n",
    "        and not token.is_digit\n",
    "    ]\n",
    "    for sentence in doc.sents\n",
    "]"
   ]
  },
  {
   "cell_type": "code",
   "execution_count": 17,
   "metadata": {},
   "outputs": [],
   "source": [
    "id2word = corpora.Dictionary(texts)"
   ]
  },
  {
   "cell_type": "code",
   "execution_count": 18,
   "metadata": {},
   "outputs": [],
   "source": [
    "corpus = [id2word.doc2bow(text) for text in texts]"
   ]
  },
  {
   "cell_type": "code",
   "execution_count": 19,
   "metadata": {},
   "outputs": [],
   "source": [
    "lda_model = LdaModel(\n",
    "    corpus=corpus,\n",
    "    id2word=id2word,\n",
    "    num_topics=20, \n",
    "    random_state=100,\n",
    "    update_every=1,\n",
    "    chunksize=100,\n",
    "    passes=10,\n",
    "    alpha='auto',\n",
    "    per_word_topics=True\n",
    ")"
   ]
  },
  {
   "cell_type": "code",
   "execution_count": 20,
   "metadata": {},
   "outputs": [],
   "source": [
    "doc_lda = lda_model[corpus]"
   ]
  },
  {
   "cell_type": "code",
   "execution_count": 24,
   "metadata": {},
   "outputs": [],
   "source": [
    "# lda_model.print_topics()"
   ]
  },
  {
   "cell_type": "code",
   "execution_count": 22,
   "metadata": {},
   "outputs": [],
   "source": [
    "import pyLDAvis as vis\n",
    "import pyLDAvis.gensim_models as gensimvis\n",
    "vis.enable_notebook()"
   ]
  },
  {
   "cell_type": "code",
   "execution_count": 23,
   "metadata": {},
   "outputs": [
    {
     "data": {
      "text/html": [
       "\n",
       "<link rel=\"stylesheet\" type=\"text/css\" href=\"https://cdn.jsdelivr.net/gh/bmabey/pyLDAvis@3.4.0/pyLDAvis/js/ldavis.v1.0.0.css\">\n",
       "\n",
       "\n",
       "<div id=\"ldavis_el10271618791683104487032260135\" style=\"background-color:white;\"></div>\n",
       "<script type=\"text/javascript\">\n",
       "\n",
       "var ldavis_el10271618791683104487032260135_data = {\"mdsDat\": {\"x\": [-0.0937768462389549, 0.002424609648321306, 0.08471859032053429, 0.0015619105139766574, 0.001085496574466764, 0.0007623162571598937, 0.0008147215066963915, 0.0008885663173907938, 0.0003979250350322757, 0.00037268283787455803, 0.00041251087918696736, 0.00023178230648923981, 0.0001264990659490633, 0.00044786654873466307, 2.3249872095517167e-05, -8.479366792572323e-05, 0.00017853289547347536, -4.889853201675306e-05, -0.000268361070242231, -0.000268361070242231], \"y\": [0.06615998830612027, -0.04857690903113828, 0.07576444375690876, -0.02520223762276523, -0.015835652130598756, -0.01043847504408531, -0.011272373146542057, -0.01246545948561211, -0.005078601782362644, -0.004728289399374451, -0.0052790848615037085, -0.0028241474294041185, -0.0014445421447973968, -0.005768346380603945, -0.00011404492112138715, 0.00125884505140277, -0.0021207089856507396, 0.000803005329978803, 0.0035812949605748346, 0.0035812949605748346], \"topics\": [1, 2, 3, 4, 5, 6, 7, 8, 9, 10, 11, 12, 13, 14, 15, 16, 17, 18, 19, 20], \"cluster\": [1, 1, 1, 1, 1, 1, 1, 1, 1, 1, 1, 1, 1, 1, 1, 1, 1, 1, 1, 1], \"Freq\": [13.006061170912165, 12.520830895712903, 8.92030430949024, 7.795416990364649, 7.140369840750322, 6.443993340269695, 6.131247029632884, 5.1628739186167065, 5.0565500528246625, 4.763271586691245, 4.488921677887888, 4.2092777326794, 3.035208672885815, 2.8690457627706647, 2.189766384908713, 1.842548135085665, 1.8414584398877358, 1.331549825630473, 0.6274065758486362, 0.6238976571495404]}, \"tinfo\": {\"Term\": [\"like\", \"the sea\", \"the ship\", \"round\", \"saw\", \"heard\", \"t\", \"long\", \"soon\", \"far\", \"stand\", \"men\", \"came\", \"time\", \"way\", \"nigh\", \"aloft\", \"sight\", \"the water\", \"goes\", \"thought\", \"feel\", \"heaven\", \"think\", \"sail\", \"come\", \"gone\", \"straight\", \"water\", \"speak\", \"like\", \"goes\", \"order\", \"jump\", \"sleep\", \"sleeps\", \"s\", \"Ahab\", \"upwards\", \"the White Whale\", \"the waters\", \"Stubb\", \"revolve\", \"away\", \"dashed\", \"the fish\", \"Heaven\", \"shook\", \"worked\", \"the axis\", \"another Ixion\", \"black bubble\", \"that slowly wheeling circle\", \"the button\", \"Round\", \"contracting\", \"stood\", \"Flask\", \"the white whale\", \"soft\", \"till\", \"the whale\", \"beneath\", \"leaving\", \"the air\", \"seen\", \"an instant\", \"the deck\", \"downwards\", \"ye\", \"went\", \"sir\", \"t\", \"long\", \"nigh\", \"thought\", \"sail\", \"years\", \"ago\", \"taking\", \"mind\", \"bear\", \"thing\", \"possibly\", \"shore\", \"particular\", \"ain\", \"this sort\", \"s\", \"rolled\", \"don\", \"ye\", \"night\", \"Stubb\", \"thee\", \"sir\", \"feels\", \"said\", \"ve\", \"beat\", \"thousand\", \"a sullen white surf\", \"cried\", \"the whale\", \"Ahab\", \"the boat\", \"Starbuck\", \"the sea\", \"saw\", \"heaven\", \"better\", \"having\", \"believe\", \"a man\", \"considering\", \"answer\", \"earnestly\", \"Ahab\", \"dragged\", \"the flag\", \"fell\", \"upwards\", \"lengthwise\", \"the side\", \"feeling\", \"Tashtego\", \"the oarsmen\", \"flew\", \"the bottom\", \"sideways\", \"disappeared\", \"seen\", \"followed\", \"Starbuck\", \"its depths\", \"smiting\", \"the centre\", \"shot\", \"rolled\", \"till\", \"beneath\", \"the boat\", \"said\", \"s\", \"sir\", \"Stubb\", \"the ship\", \"men\", \"water\", \"Let\", \"set\", \"that man\", \"infallibly\", \"his legs\", \"quietly\", \"his feet\", \"die\", \"Starbuck\", \"ye\", \"till\", \"directed\", \"Mr. Starbuck\", \"the whale\", \"ran\", \"shot\", \"s\", \"their hands\", \"shall\", \"sent\", \"reeled\", \"a woman s fainting fit\", \"a broad band\", \"all their enchanted eyes\", \"his predestinating head\", \"inactive hammers bits\", \"nearly all the seamen\", \"turning\", \"sir\", \"near\", \"Moby Dick\", \"Ahab\", \"bows\", \"Stubb\", \"Aye\", \"the boat\", \"beneath\", \"stand\", \"the water\", \"straight\", \"speak\", \"making\", \"the world\", \"hours\", \"previous\", \"bound\", \"putting\", \"the land\", \"honor\", \"no one\", \"enjoy\", \"particularly\", \"Stubb\", \"Stand\", \"outright\", \"head\", \"man\", \"too sticks\", \"My God\", \"leeward\", \"aloud\", \"leaned\", \"help\", \"the air\", \"gaze\", \"the gods\", \"Meantime\", \"away\", \"went\", \"sir\", \"Ahab\", \"s\", \"beneath\", \"the deck\", \"Starbuck\", \"heard\", \"soon\", \"sea\", \"find\", \"account\", \"especially\", \"pausing\", \"ye\", \"hardly\", \"standing\", \"the rope\", \"air\", \"gulping\", \"a flume\", \"mountain torrents\", \"the breach\", \"pour\", \"plenty\", \"ll\", \"deck\", \"the men\", \"his hand\", \"reached\", \"expired\", \"the allotted hour\", \"the deck binnacle\", \"the last second\", \"the well known methodic intervals\", \"the whale s glittering spout\", \"reported\", \"cried\", \"regularly\", \"the waters\", \"Ahab\", \"his boat\", \"said\", \"struck\", \"s\", \"Starbuck\", \"Stubb\", \"think\", \"suddenly\", \"passed\", \"run\", \"knew\", \"deep\", \"all hands\", \"sadly\", \"receiving\", \"invest\", \"content\", \"visit\", \"forty years\", \"feels\", \"clear\", \"the men\", \"Shrouded\", \"a thin drooping veil\", \"swamping\", \"the rainbowed air\", \"mist\", \"hammered\", \"steel\", \"hovered\", \"ages\", \"beaten\", \"last night\", \"A whole hour\", \"gold\", \"aye\", \"Ahab\", \"the boat\", \"looked\", \"the old man\", \"cried\", \"s\", \"sir\", \"sideways\", \"stood\", \"near\", \"Aye\", \"ye\", \"till\", \"the deck\", \"far\", \"sight\", \"feel\", \"told\", \"the quarter deck\", \"land\", \"the sailors\", \"the most part\", \"the whale\", \"D\", \"a time\", \"lay\", \"my topmost greatness\", \"my topmost grief\", \"Ahab s boat\", \"lies\", \"st thou\", \"half\", \"all eyes\", \"waves\", \"the stranger Captain\", \"Oh\", \"present\", \"my bones\", \"damp\", \"my flesh\", \"filled\", \"inside\", \"the Pequod\", \"this screwed chair\", \"beneath\", \"ye\", \"leeward\", \"day\", \"went\", \"Ahab\", \"Moby Dick\", \"s\", \"Starbuck\", \"cried\", \"way\", \"fixed\", \"all this\", \"view\", \"try\", \"needs\", \"my soul\", \"bringing\", \"knowing\", \"served\", \"some time\", \"supplied\", \"half\", \"blind\", \"bowled\", \"their hearts\", \"The hand\", \"all their souls\", \"its flying mark\", \"suspense\", \"the previous day\", \"the stirring perils\", \"their wild craft\", \"unfearing\", \"reckless\", \"the rack\", \"plunging\", \"all these things\", \"the past night\", \"Fate\", \"Ahab\", \"stood\", \"s\", \"the whale\", \"went\", \"snatched\", \"time\", \"going\", \"drawn\", \"Yes\", \"knows\", \"orders\", \"formed\", \"every one\", \"the decks\", \"ere\", \"reached\", \"full sight\", \"the closing vortex\", \"the halfspent suction\", \"the sunk ship\", \"the ensuing scene\", \"the margin\", \"yes\", \"floating\", \"O sea\", \"Slope\", \"ever too late Ahab\", \"thy depths\", \"his mark\", \"slide\", \"slowly\", \"Forehead\", \"forehead\", \"return\", \"meet\", \"downwards\", \"s\", \"Ahab\", \"Stubb\", \"aloft\", \"high\", \"right\", \"leaning\", \"looking\", \"the bulwarks\", \"seated\", \"ships\", \"Ahab\", \"cast\", \"lifted\", \"curled\", \"Crazed\", \"cut\", \"bidding\", \"straightway Starbuck\", \"cowardly\", \"swung\", \"a lonely foot\", \"a shivered lance\", \"propped\", \"the stump\", \"an old man\", \"safe\", \"dislodged trucks\", \"necks\", \"their bull\", \"Ye\", \"the heads\", \"the mast head cry\", \"half\", \"sir\", \"the harpooneers\", \"ahead\", \"Aye\", \"feet\", \"aye\", \"close\", \"a cry\", \"look\", \"the boat\", \"the whale\", \"s\", \"ran\", \"came\", \"hold\", \"vain\", \"exactly\", \"a sort\", \"lances\", \"his tail\", \"the crew\", \"turn\", \"the upper part\", \"the boats\", \"The wide tiers\", \"flailed\", \"his broad white forehead\", \"knitted\", \"the transparent skin\", \"the two mates boats\", \"their bows\", \"welded tendons\", \"the last letter\", \"thy word\", \"spilling\", \"a scar\", \"the irons\", \"dashing\", \"one side\", \"churning\", \"apart\", \"overspreading\", \"the line\", \"leaving\", \"Ahab\", \"beneath\", \"the deck\", \"ye\", \"s\", \"standing\", \"thee\", \"looked\", \"head\", \"grow\", \"little\", \"pay\", \"the same time\", \"mean\", \"smaller\", \"eight and forty hours\", \"wish\", \"every bite\", \"the thin blades\", \"blind hands\", \"old mast\", \"old together sound\", \"our hulls\", \"my ship\", \"gladly\", \"charter\", \"roundly\", \"your ship\", \"no other way\", \"hammered\", \"a more tremendous charge\", \"a thousand ways\", \"foreshortened\", \"his untraceable evolutions\", \"recrossed\", \"the devoted boats\", \"the planted irons\", \"the slack\", \"rally\", \"aye\", \"sir\", \"s\", \"the whale\", \"fast\", \"let\", \"a moment\", \"aside\", \"drew\", \"round\", \"the whale\", \"turned\", \"close\", \"the Parsee\", \"the lines\", \"Lashed\", \"frayed\", \"his distended eyes\", \"his sable raiment\", \"the half torn body\", \"the involutions\", \"the turns\", \"pinioned\", \"old Ahab\", \"the past night\", \"shreds\", \"reeled\", \"turns\", \"the fish\", \"an instant\", \"wheeling\", \"clear\", \"the boat\", \"seen\", \"revolve\", \"the crew\", \"commanded\", \"gave\", \"the cloven blue air\", \"lowered\", \"Ahab\", \"feet\", \"s\", \"come\", \"my master\", \"the low cabin window\", \"O\", \"the sharks\", \"master\", \"a voice\", \"Oh\", \"sudden\", \"thee\", \"aboard\", \"this ship\", \"my part\", \"my poor mother\", \"not few coppers\", \"thy\", \"hope\", \"let\", \"the voyage\", \"Pip\", \"Come\", \"oysters\", \"bulge\", \"this stern strikes rocks\", \"So God\", \"that God\", \"the epaulets\", \"befall\", \"join\", \"hot latitudes\", \"crowding\", \"stay\", \"cried\", \"ll\", \"ere\", \"s\", \"Stubb\", \"sir\", \"Ahab\", \"tell\", \"these sharks\", \"feast\", \"muttered\", \"swim\", \"wake\", \"a keen sail\", \"keeled\", \"swiftest\", \"this fourth boat\", \"Lad\", \"thee thou\", \"all the blackness\", \"his living skin\", \"poor little Pip\", \"whose drowned bones\", \"fastening\", \"desert\", \"succeeded\", \"white\", \"the mast head\", \"the man\", \"follow\", \"lad\", \"all the crew\", \"death old man\", \"deeps\", \"unsounded\", \"week\", \"Starbuck s body\", \"thee\", \"step\", \"day\", \"the wind\", \"the whale\", \"his eyes\", \"Ahab\", \"ye\", \"s\", \"Stubb\", \"thou\", \"sir\", \"gone\", \"left\", \"The Parsee\", \"the Parsee\", \"clear\", \"nails\", \"another flag\", \"flag\", \"that perch\", \"marking\", \"nail\", \"the vane\", \"a hammer\", \"shouted\", \"gained\", \"alow cabin forecastle\", \"the main mast head\", \"the mast\", \"a good eye\", \"bye mast head\", \"Good\", \"descend\", \"m\", \"Two days\", \"all good angels\", \"evil shadow\", \"mobbing\", \"more wouldst thou\", \"thee thy\", \"thy very leg\", \"Tashtego\", \"the boat\", \"hammered\", \"Ahab\", \"the whale\", \"Starbuck\", \"chased\", \"ye\", \"Look\", \"leaves\", \"carries\", \"ye sun moon\", \"stars\", \"thou underling\", \"no dust\", \"the gait\", \"expectant\", \"shoots\", \"a shudder\", \"deadly\", \"the top\", \"calm\", \"his taffrail\", \"the hollow cheeked captain\", \"his trumpet\", \"replied\", \"thy bosom\", \"pointed\", \"the wreck\", \"exclaiming\", \"levelled iron\", \"ye Nantucketer\", \"his death\", \"the crotch\", \"this hand\", \"snatching\", \"this stump\", \"thy shop\", \"forged\", \"Perth\", \"ye\", \"Ahab\", \"s\", \"held\", \"Loomings\", \"little or no money\", \"my purse\", \"the watery part\", \"a way\", \"regulating\", \"the circulation\", \"the spleen\", \"November\", \"a damp drizzly\", \"a strong moral principle\", \"coffin warehouses\", \"every funeral\", \"my hypos\", \"people s hats\", \"such an upper hand\", \"my substitute\", \"Cato\", \"a philosophical flourish\", \"feelings\", \"their degree\", \"Indian isles\", \"coral reefs commerce\", \"her surf\", \"the Manhattoes\", \"wharves\", \"your insular city\", \"waterward\", \"Its extreme downtown\", \"that noble mole\", \"CHAPTER\", \"Ishmael\", \"ago\", \"having\", \"interest\", \"little\", \"long\", \"mind\", \"particular\", \"precisely\", \"sail\", \"shore\", \"the world\", \"thought\", \"years\", \"driving\", \"account\", \"bringing\", \"Loomings\", \"little or no money\", \"my purse\", \"the watery part\", \"a way\", \"regulating\", \"the circulation\", \"the spleen\", \"November\", \"a damp drizzly\", \"a strong moral principle\", \"coffin warehouses\", \"every funeral\", \"my hypos\", \"people s hats\", \"such an upper hand\", \"my substitute\", \"Cato\", \"a philosophical flourish\", \"feelings\", \"their degree\", \"Indian isles\", \"coral reefs commerce\", \"her surf\", \"the Manhattoes\", \"wharves\", \"your insular city\", \"waterward\", \"Its extreme downtown\", \"that noble mole\", \"CHAPTER\", \"Ishmael\", \"ago\", \"having\", \"interest\", \"little\", \"long\", \"mind\", \"particular\", \"precisely\", \"sail\", \"shore\", \"the world\", \"thought\", \"years\", \"driving\", \"account\", \"bringing\"], \"Freq\": [2182.0, 833.0, 481.0, 285.0, 425.0, 330.0, 424.0, 377.0, 266.0, 237.0, 262.0, 244.0, 168.0, 170.0, 173.0, 249.0, 160.0, 166.0, 186.0, 243.0, 232.0, 157.0, 184.0, 148.0, 201.0, 102.0, 96.0, 148.0, 152.0, 138.0, 2181.17016192793, 241.36340249927315, 73.93266449547787, 56.90383148411529, 35.81094492266877, 0.8111449789632406, 0.21692835714635958, 0.21674421934806343, 0.2164414266357929, 0.21642326812515572, 0.21640795197361126, 0.2164712080415738, 0.21638256988795487, 0.2164114098754375, 0.2163832216390844, 0.21638260609635096, 0.21637471266600417, 0.2163775369208989, 0.21636890121843236, 0.216369172781403, 0.21636895553102647, 0.21636895553102647, 0.21636895553102647, 0.21636895553102647, 0.21636895553102647, 0.21636911846880885, 0.21640232156801986, 0.21638231642918226, 0.21637205134889184, 0.21636908226041277, 0.21641066760331773, 0.21643818598434322, 0.21641139177123944, 0.21637301087138813, 0.21638251557536073, 0.21638162846965664, 0.21637315570497248, 0.21637811625523629, 0.2163725763706351, 0.21637994477923864, 0.21637391608129028, 0.21637310139237834, 422.9639671684049, 376.0946333615801, 248.3190048849522, 230.7583933321314, 200.08146216154233, 167.05521582009388, 164.06747573285912, 90.46351852347092, 77.14804359870749, 45.43005344823935, 43.14525092600086, 27.861546803660133, 9.24636493351045, 9.189673757538564, 4.377741933352159, 1.945892490532654, 0.21982289593727605, 0.2195291340792568, 0.21948676474808834, 0.2195168642276967, 0.21944720144831356, 0.21949478198064182, 0.21943777248568003, 0.2194624516189316, 0.21940734185950964, 0.21943162013113354, 0.21941157704974984, 0.21941089732785946, 0.21939777346674474, 0.21939144682453407, 0.21942792523265237, 0.21944711430448147, 0.21951357019084322, 0.21941302363736276, 0.21941173390864763, 831.9765278029231, 423.92979024848574, 182.52798235940566, 135.8819794376149, 81.96391535718695, 42.911454078286205, 41.07158186659475, 12.285657943531424, 11.479523417917425, 1.509772710413985, 0.14893478790809375, 0.14879157138804275, 0.14878716338868275, 0.1487901806952869, 0.14877936557573043, 0.14876118723470783, 0.14875634464386164, 0.1487564688128577, 0.14875521470599753, 0.14874927942798605, 0.14875748699862537, 0.14875320316826143, 0.14875854243509185, 0.14874348073587024, 0.1487631491048455, 0.14874293439228758, 0.1487741628947957, 0.1487356580891187, 0.14873906031961065, 0.14873267803321336, 0.14874816190702156, 0.14875450694272002, 0.1487617459951901, 0.14876405553851674, 0.14875877835618434, 0.14875324041896024, 0.148794774948141, 0.1487562453086648, 0.1487582444295013, 480.1343110382772, 242.55473213927672, 150.3436689507406, 119.38243257291646, 99.7240392654664, 55.07389233268513, 21.549326663095965, 18.17059222493101, 12.482836074970244, 5.0703638898090775, 0.13998370210224656, 0.13997810294644356, 0.13999128700516575, 0.1399592437743784, 0.1399250086260093, 0.13993007607903254, 0.13997598698640173, 0.13992921884393866, 0.13993620693761527, 0.14008496435409468, 0.13992200287764217, 0.13992198117548788, 0.13992231755887916, 0.13991630606214492, 0.13991333286700922, 0.13991333286700922, 0.13991333286700922, 0.13991333286700922, 0.13991333286700922, 0.13991333286700922, 0.13992372819890703, 0.13994113332663574, 0.13992401032691262, 0.13992676650050556, 0.13999239381503378, 0.13991334371808636, 0.13994251141343222, 0.1399231096875102, 0.1399290560777816, 0.1399266579897342, 260.66616782118655, 185.1971876710243, 146.6504679760505, 136.57316793599963, 79.07736855536305, 62.186337906386186, 47.212816061697296, 37.46787227243078, 22.39375808339563, 14.274873993887969, 5.610570193223845, 2.3344477107802843, 1.9784587537869285, 1.3418511499391175, 0.7420286014538587, 0.1312033478566587, 0.13112241243358816, 0.13111917223367156, 0.13112008664591795, 0.1311159618515456, 0.13110099332064246, 0.13110099332064246, 0.1311147393221292, 0.13110085417095277, 0.13110960072287492, 0.13110101319916953, 0.13111898338766415, 0.1310981407520042, 0.13109524842631176, 0.13110173876540854, 0.13111754219444968, 0.13111228432403285, 0.13111802921836355, 0.13116560847296732, 0.13114645551211054, 0.13111075367744648, 0.1311052175076503, 0.1311057343493548, 329.2027259804901, 264.6091228972268, 95.17146823567695, 59.78222626247709, 21.00385276587429, 15.772809973322671, 12.579845582885508, 0.12153754887792871, 0.12148132541772903, 0.12147416742136027, 0.12146202214932607, 0.12145889164715477, 0.12145239742488538, 0.12145239742488538, 0.12145239742488538, 0.12145239742488538, 0.12145242433464616, 0.12145244227448669, 0.12146589715487909, 0.12145355454459912, 0.12145584187426584, 0.12145098017748406, 0.1214541465593364, 0.121443400594863, 0.121443400594863, 0.121443400594863, 0.121443400594863, 0.121443400594863, 0.121443400594863, 0.121443400594863, 0.12147265150483606, 0.12144801113387746, 0.12145244227448669, 0.12153097392637696, 0.12144474608290223, 0.12145788701608548, 0.12144674637512058, 0.12151437060397276, 0.12145819199337438, 0.12145473857407366, 146.81701949492665, 125.27533617395902, 121.48687923148024, 117.16633185924425, 96.80412847537768, 77.83738214559841, 53.892430125797055, 13.0138491859669, 10.33069750397036, 10.303215326917682, 5.733918584625079, 3.7037938776625277, 0.1149120939830433, 0.11491431297466147, 0.11490266326866609, 0.11490641848525068, 0.11489332643470349, 0.11489332643470349, 0.11489332643470349, 0.11489332643470349, 0.11489332643470349, 0.11489583560214865, 0.11489503335133285, 0.11489335203845293, 0.11489077459434259, 0.1148904844185156, 0.1148904844185156, 0.1148904844185156, 0.1148904844185156, 0.11489520404299579, 0.1150046430026872, 0.11491808526041235, 0.11489642448838577, 0.11489463222592494, 0.11491055775807688, 0.114974225748352, 0.11491174406513428, 0.11489786683293758, 0.11490048694996365, 0.11489633060797116, 0.11489586974048123, 0.1148978156254387, 0.11489644155755206, 0.114895391803825, 236.237619054185, 164.27146341843573, 155.7617922587523, 63.93438472833447, 30.115603013272313, 13.778503963071847, 9.667131367606219, 2.421779903892212, 0.09629220911548937, 0.09623883404731348, 0.09623611750284458, 0.09623780635985567, 0.09622843500010053, 0.09622843500010053, 0.0962328116550782, 0.09622844218672612, 0.09622406553174845, 0.09623723861643492, 0.09622477700768077, 0.09622558190974563, 0.09622264257988379, 0.09622845655997728, 0.09623118029107175, 0.09622196703707936, 0.09622196703707936, 0.09622196703707936, 0.09622474826117847, 0.09622196703707936, 0.09623175522111807, 0.0962202350603148, 0.09624687588133647, 0.09625989086026021, 0.09622991544496982, 0.09622880870463064, 0.09623185583387618, 0.09626601386525359, 0.09622985076533962, 0.09626259303147795, 0.09623212173902261, 0.09622993700484657, 171.62981057676856, 88.72906980158277, 83.78229642430942, 41.651446665078396, 37.23370037545139, 14.347896595511067, 11.867227576819753, 8.575540514716584, 8.280549838505882, 7.645672646509702, 5.466315326874986, 4.059645840209253, 0.09954137094269612, 0.09952288751420085, 0.09952241592634511, 0.09952241592634511, 0.09952241592634511, 0.09952241592634511, 0.09952241592634511, 0.09952241592634511, 0.09952241592634511, 0.09952241592634511, 0.09952241592634511, 0.09952241592634511, 0.09952241592634511, 0.09952243704221925, 0.09952241592634511, 0.09952245111946867, 0.09952241592634511, 0.09952241592634511, 0.09958764990018143, 0.09953231223269102, 0.09957218604168785, 0.0995278286287491, 0.0995235280290497, 0.09952241592634511, 168.3674844347427, 93.52059601987395, 56.97521951648002, 54.45810160355283, 26.894495715572308, 15.701461292960698, 13.654940842109017, 9.295954608284259, 2.1319393485647082, 0.09418025725503186, 0.09417238698628075, 0.09415790622220965, 0.09415790622220965, 0.09415790622220965, 0.09415790622220965, 0.09415790622220965, 0.09415790622220965, 0.09415875491167902, 0.09415790622220965, 0.0941531787566498, 0.0941531787566498, 0.0941531787566498, 0.0941531787566498, 0.09415319201742277, 0.0941531787566498, 0.09416343596453351, 0.09415104377220343, 0.09415104377220343, 0.09415387494723015, 0.09415197202631055, 0.0941589869752058, 0.09425330422287588, 0.09418558145537485, 0.09416233532037792, 159.19135204252524, 108.6181004751484, 44.52591631267963, 42.058263693736265, 38.851009841982496, 23.534868101903456, 8.584307193618955, 8.172406307627725, 0.08830855692672039, 0.08821864731129976, 0.08820776243048367, 0.08820323851905379, 0.08820005803436069, 0.08820243246301172, 0.08819810850346825, 0.08819807101248955, 0.08819740867186585, 0.08819810850346825, 0.08819609648761131, 0.08819609648761131, 0.08819609648761131, 0.08819609648761131, 0.08819609648761131, 0.08819574032331366, 0.08819702751358238, 0.08819702751358238, 0.08819702751358238, 0.08819609648761131, 0.08819702751358238, 0.08819440314507333, 0.0882067939135339, 0.08821651657401028, 0.08819717747749718, 0.0882004954291122, 0.08820289485174904, 0.08819983308848849, 0.088198077260986, 0.08819812100046115, 0.08819748365382324, 0.08820148269155131, 0.0882030135731816, 0.08820551922025809, 0.08822216521480118, 0.0881977648361635, 167.06676740757493, 98.15364790675295, 21.63285430117941, 19.461595358559446, 12.286955070972594, 0.0852978321032247, 0.08529334978675183, 0.08529330291285409, 0.08528648861996789, 0.08528263910111472, 0.0852936368893756, 0.08528229926535599, 0.08528229926535599, 0.08528229926535599, 0.08528229926535599, 0.08528229926535599, 0.08528229926535599, 0.08528229926535599, 0.08528229926535599, 0.08528229926535599, 0.08528229926535599, 0.08528229926535599, 0.08528229926535599, 0.08528229926535599, 0.08528229926535599, 0.08528229926535599, 0.08528229926535599, 0.08528229926535599, 0.08528229926535599, 0.08528025439156642, 0.0852832953356833, 0.08533176880519962, 0.08528822295418484, 0.08528470741185318, 0.0852878186668167, 0.08529705282467452, 0.08528258636797975, 0.08528231684306765, 0.08528231098383043, 0.08528229926535599, 67.74483060139545, 47.86656407011615, 34.341824664640825, 19.64379547240133, 17.448565807915962, 0.06276513232447294, 0.06275949200998504, 0.06275243211072715, 0.0627494492927283, 0.0627494492927283, 0.0627494492927283, 0.06274794098391019, 0.06274794098391019, 0.06274794098391019, 0.06274794098391019, 0.06274662702300701, 0.06274662702300701, 0.06274662702300701, 0.06274662702300701, 0.06274662702300701, 0.06274791140922747, 0.06274534686174121, 0.06274534686174121, 0.06274534686174121, 0.06274534686174121, 0.06274534686174121, 0.06274534686174121, 0.06274534686174121, 0.06274534686174121, 0.06274534686174121, 0.06274857472711107, 0.06276172278605216, 0.06277780296353604, 0.06275435869005784, 0.06274627212681451, 0.06274662702300701, 0.06274535108669589, 0.06274534686174121, 0.06274534686174121, 283.7944631456107, 0.056202375109751464, 0.05618517042696691, 0.056179431539046434, 0.0561792238687807, 0.05617500257126369, 0.05617446342730456, 0.05617446342730456, 0.05617446342730456, 0.05617446342730456, 0.05617446342730456, 0.05617446342730456, 0.05617446342730456, 0.05617446342730456, 0.05617446342730456, 0.05617446342730456, 0.05617446342730456, 0.05617446342730456, 0.05617446342730456, 0.05617448339559934, 0.05617246659782632, 0.056168317186170526, 0.05616726286020601, 0.05618075344016103, 0.056176064884546115, 0.05616726685386497, 0.05616976289071277, 0.05616432352721404, 0.056163600674942915, 0.056162067109903624, 0.05616317734709352, 0.05620506683588814, 0.05616616859765194, 0.05618424789174796, 100.22360139085916, 0.046284348386409435, 0.046284348386409435, 0.04628435448263853, 0.0462844489741896, 0.046284348386409435, 0.046284348386409435, 0.046285762711560895, 0.04628309865944371, 0.04629109691202436, 0.046282333582691515, 0.04628203181935101, 0.0462816629974904, 0.0462816629974904, 0.0462816629974904, 0.046281126529329496, 0.0462816629974904, 0.04628827435795055, 0.0462816629974904, 0.04628207449295472, 0.046280443751670175, 0.04627955065410686, 0.04627955065410686, 0.04627955065410686, 0.046279038570862366, 0.046279038570862366, 0.046279038570862366, 0.046279038570862366, 0.04627955065410686, 0.04627859659425254, 0.046279038570862366, 0.046279562846565064, 0.046286671049696956, 0.04628247379596084, 0.046281669093719495, 0.046294245614355085, 0.046282793847988654, 0.046279910331623826, 0.04627980974384366, 53.34995051389565, 0.03985659029135827, 0.03985659029135827, 0.03985665954077278, 0.03985659029135827, 0.03985255587176454, 0.03985105290299027, 0.03985105290299027, 0.03985105290299027, 0.03985105290299027, 0.03985105290299027, 0.03985105290299027, 0.03985105290299027, 0.03985105290299027, 0.03985105290299027, 0.03985105290299027, 0.03985105290299027, 0.03985105290299027, 0.03985105290299027, 0.03985105290299027, 0.03985105290299027, 0.03985150687137431, 0.03985105290299027, 0.03985105290299027, 0.03984960635966486, 0.03984960635966486, 0.03984960635966486, 0.03984960635966486, 0.03984960635966486, 0.03984960635966486, 0.039857487968953824, 0.03985097339440324, 0.039854638483786224, 0.03985106829174905, 0.03985660311532392, 0.03985097082961011, 0.03986326388308293, 0.039853774148501366, 0.03985726996153776, 0.03985199674686217, 0.03985117601306052, 0.03985136580775215, 95.06319524025984, 30.693343937982988, 0.03771074654145639, 0.03771074654145639, 0.0377088856028666, 0.03770557384989415, 0.03770557384989415, 0.03770557384989415, 0.03770557384989415, 0.03770557384989415, 0.03770557384989415, 0.03770557384989415, 0.03770557384989415, 0.037705584102999325, 0.03770557384989415, 0.037705558470236385, 0.03770557384989415, 0.03770557384989415, 0.037704699772677736, 0.037704699772677736, 0.037704699772677736, 0.03770557384989415, 0.037704699772677736, 0.03770416404793219, 0.03770416404793219, 0.03770416404793219, 0.03770416404793219, 0.03770416404793219, 0.03770416404793219, 0.03770416404793219, 0.037705755842511054, 0.037708890729419194, 0.03770469464612514, 0.0377179262783572, 0.03770895737460285, 0.0377061967260337, 0.03770432040778615, 0.037705558470236385, 34.00941187014759, 9.498487062324656, 2.9860568596478734, 0.028572780798947504, 0.028572780798947504, 0.02857009694126057, 0.028569559428326032, 0.028569559428326032, 0.028569362958080994, 0.028569362958080994, 0.028569362958080994, 0.028569362958080994, 0.028569362958080994, 0.028569362958080994, 0.028567844947414142, 0.028567844947414142, 0.028567844947414142, 0.028567844947414142, 0.028567220320314352, 0.028567844947414142, 0.028567844947414142, 0.02856684591475305, 0.02856684591475305, 0.02856684591475305, 0.02856684591475305, 0.02856684591475305, 0.02856684591475305, 0.02856684591475305, 0.0285664010764624, 0.0285664010764624, 0.02856684591475305, 0.02856684591475305, 0.028571010713249283, 0.028571918924759365, 0.02856697009877586, 0.02856684591475305, 0.014101350925158644, 0.014101350925158644, 0.014101350925158644, 0.014101350925158644, 0.014101350925158644, 0.014101350925158644, 0.014101350925158644, 0.014101350925158644, 0.014101350925158644, 0.014101350925158644, 0.014101350925158644, 0.014101350925158644, 0.014101350925158644, 0.014101350925158644, 0.014101350925158644, 0.014101350925158644, 0.014101350925158644, 0.014101350925158644, 0.014101350925158644, 0.014101350925158644, 0.014101350925158644, 0.014101350925158644, 0.014101350925158644, 0.014101350925158644, 0.014101350925158644, 0.014101350925158644, 0.014101350925158644, 0.014101350925158644, 0.014101350925158644, 0.014101350925158644, 0.014101350925158644, 0.014101350925158644, 0.014101350925158644, 0.014101350925158644, 0.014101350925158644, 0.014101350925158644, 0.014101350925158644, 0.014101350925158644, 0.014101350925158644, 0.014101350925158644, 0.014101350925158644, 0.014101350925158644, 0.014101350925158644, 0.014101350925158644, 0.014101350925158644, 0.014101350925158644, 0.014101350925158644, 0.014101350925158644, 0.014022485806671682, 0.014022485806671682, 0.014022485806671682, 0.014022485806671682, 0.014022485806671682, 0.014022485806671682, 0.014022485806671682, 0.014022485806671682, 0.014022485806671682, 0.014022485806671682, 0.014022485806671682, 0.014022485806671682, 0.014022485806671682, 0.014022485806671682, 0.014022485806671682, 0.014022485806671682, 0.014022485806671682, 0.014022485806671682, 0.014022485806671682, 0.014022485806671682, 0.014022485806671682, 0.014022485806671682, 0.014022485806671682, 0.014022485806671682, 0.014022485806671682, 0.014022485806671682, 0.014022485806671682, 0.014022485806671682, 0.014022485806671682, 0.014022485806671682, 0.014022485806671682, 0.014022485806671682, 0.014022485806671682, 0.014022485806671682, 0.014022485806671682, 0.014022485806671682, 0.014022485806671682, 0.014022485806671682, 0.014022485806671682, 0.014022485806671682, 0.014022485806671682, 0.014022485806671682, 0.014022485806671682, 0.014022485806671682, 0.014022485806671682, 0.014022485806671682, 0.014022485806671682, 0.014022485806671682], \"Total\": [2182.0, 833.0, 481.0, 285.0, 425.0, 330.0, 424.0, 377.0, 266.0, 237.0, 262.0, 244.0, 168.0, 170.0, 173.0, 249.0, 160.0, 166.0, 186.0, 243.0, 232.0, 157.0, 184.0, 148.0, 201.0, 102.0, 96.0, 148.0, 152.0, 138.0, 2182.808011180983, 243.00125175232625, 75.570513748531, 58.54168074710766, 37.44879417572188, 2.448994232016354, 1.85637643849669, 1.8560653573076158, 1.8544210359506839, 1.8544011805241212, 1.8543358217404098, 1.8549739262687042, 1.8542594324685875, 1.8545188314418124, 1.8542968107432598, 1.8542945210808313, 1.8542483235579967, 1.8542742602710889, 1.8542220928120894, 1.8542280627408483, 1.8542277143932566, 1.8542277143932566, 1.8542277143932566, 1.8542277143932566, 1.854227829760528, 1.8542322212073177, 1.8545207092152092, 1.854350774622396, 1.8542666559879812, 1.8542413367455732, 1.8546360137370768, 1.8549019547837544, 1.8546777438276663, 1.8543005827670032, 1.854481331137104, 1.8545094124659762, 1.8543210562001722, 1.8545027912164551, 1.8543505174169335, 1.8549382515361639, 1.8545549990000836, 1.8547443037475577, 424.5987987778482, 377.7294649710234, 249.9538364943955, 232.39322494157466, 201.7162937709856, 168.69004742953717, 165.7023073423024, 92.09835013291426, 78.78287520815083, 47.06488505768266, 44.78008253544417, 29.49637841310345, 10.881196580772128, 10.824505366981876, 6.012573542795474, 3.580724099975967, 1.85637643849669, 1.8545008511120034, 1.8543853620010406, 1.8549382515361639, 1.8544261047230786, 1.8549739262687042, 1.8545216541739464, 1.8547443037475577, 1.8543034521940756, 1.8545248081106138, 1.85436462755026, 1.8543713647350086, 1.8542719349680497, 1.854246895012643, 1.8546429928025308, 1.8549019547837544, 1.8560653573076158, 1.8546599114197775, 1.8546719375847014, 833.6819863561919, 425.6352488017547, 184.23344091267467, 137.58743799088387, 83.669373910456, 44.61691263155522, 42.777040419863766, 13.99111649680044, 13.184981971186442, 3.2152312636830027, 1.8560653573076158, 1.8543562494776713, 1.8543293981329227, 1.8544116582636663, 1.8544210359506839, 1.8543051897239213, 1.8542507261077283, 1.8542767158090996, 1.854288809815773, 1.8542253060931024, 1.854328080016642, 1.854299660617988, 1.8543815086872928, 1.8542621294116104, 1.8545094124659762, 1.8542621967933448, 1.8546719375847014, 1.8542110274391492, 1.8542557320431072, 1.85420454492849, 1.8543995410180514, 1.8545008511120034, 1.8546360137370768, 1.8546777438276663, 1.8546599114197775, 1.8545248081106138, 1.85637643849669, 1.8547443037475577, 1.8549739262687042, 481.84857618896797, 244.26899728996756, 152.05793410143144, 121.09669772360733, 101.43830441615728, 56.78815748337599, 23.263591813786817, 19.88485933641748, 14.197101225661093, 6.78462904049993, 1.854383483012124, 1.8546719375847014, 1.8549382515361639, 1.8546360137370768, 1.8542009660676437, 1.854270325287475, 1.8549019547837544, 1.854285627945154, 1.8543995410180514, 1.85637643849669, 1.8542279767415282, 1.8542584720671524, 1.8542878822579418, 1.8542197330777528, 1.8541811738370384, 1.8541811738370384, 1.8541811738370384, 1.8541811738370384, 1.8541811738370384, 1.8541811738370384, 1.8543319364762583, 1.8547443037475577, 1.8544030712958286, 1.854484165929106, 1.8560653573076158, 1.8541814451603347, 1.8549739262687042, 1.8544491465592254, 1.8546599114197775, 1.8546777438276663, 262.38924186495467, 186.92026171479245, 148.37354201981864, 138.29624197976779, 80.80044259913124, 63.909411950154364, 48.935890105465475, 39.19094631619896, 24.116832127163807, 15.997948037656142, 7.333644236992021, 4.057521754548459, 3.701532797555103, 3.0649251937072926, 2.465102645222034, 1.8549739262687042, 1.8542462782983038, 1.854215653173986, 1.8542967246621722, 1.8543297737631708, 1.8541777409545133, 1.854177946899179, 1.85437559721238, 1.8541806430469423, 1.8543300725704517, 1.8542236122969145, 1.854481331137104, 1.8542363458235165, 1.854197906384198, 1.854294931925071, 1.8545188314418124, 1.8545549990000836, 1.8547443037475577, 1.8560653573076158, 1.85637643849669, 1.8546777438276663, 1.8545027912164551, 1.8546719375847014, 330.93544614664734, 266.3418430633841, 96.90418840183426, 61.51494642863439, 22.73657293203159, 17.50553013947997, 14.312565770465225, 1.8549382515361639, 1.854238479106337, 1.854393997900545, 1.8542658905714393, 1.854235136362619, 1.8541752882957465, 1.8541752882957465, 1.8541752882957465, 1.8541752882957465, 1.854180644962634, 1.8541859787218031, 1.854424622760761, 1.8542566100607332, 1.854340491005108, 1.8542746099273133, 1.8543281232413429, 1.8541678482455886, 1.8541678482455886, 1.8541678482455886, 1.8541678482455886, 1.8541678482455886, 1.8541678482455886, 1.854167865674355, 1.8546429928025308, 1.8542456749182687, 1.8543358217404098, 1.8560653573076158, 1.8541981640804641, 1.8545248081106138, 1.8542586340637914, 1.85637643849669, 1.8546719375847014, 1.8549739262687042, 148.5562904966064, 127.0146071756388, 123.22615023316003, 118.90560286092403, 98.54339947705746, 79.5766531472782, 55.631701127476816, 14.753120187646655, 12.069968523754314, 12.042486328597438, 7.473189586304838, 5.443064879342287, 1.8541909745347878, 1.8543034521940756, 1.854212058286313, 1.854340491005108, 1.8541665927701603, 1.8541665927701603, 1.8541665927701603, 1.8541665927701603, 1.854166814457514, 1.8542156809134676, 1.8542068656550525, 1.8541802585347438, 1.854165211207025, 1.8541635606722504, 1.8541635606722504, 1.8541635606722504, 1.8541694230176526, 1.8542593680782602, 1.8560653573076158, 1.8546599114197775, 1.854292257113518, 1.8542571458381574, 1.8546429928025308, 1.85637643849669, 1.8547443037475577, 1.8543815086872928, 1.8545207092152092, 1.8544030712958286, 1.8544491465592254, 1.8549382515361639, 1.8546360137370768, 1.8545027912164551, 237.99555426395239, 166.02939862820313, 157.5197274685197, 65.6923199381019, 31.87353822303972, 15.536439172839248, 11.42506657737362, 4.179715113659617, 1.8549019547837544, 1.8541854248886347, 1.8542694007439888, 1.8543252128031835, 1.8541663784509912, 1.8541663784509912, 1.8542576804873363, 1.8541959881697567, 1.8541649365060104, 1.8544200429657716, 1.8541842424169772, 1.8542122476353669, 1.8541599354558478, 1.8542745408092929, 1.8543291747324075, 1.8541592599130434, 1.8541592780172416, 1.8541753676702717, 1.8542289885532808, 1.8541798257259732, 1.8543698020744672, 1.8541561947484189, 1.8546777438276663, 1.8549382515361639, 1.85437559721238, 1.8544186802593852, 1.8545549990000836, 1.8560653573076158, 1.854484165929106, 1.85637643849669, 1.8546719375847014, 1.8546429928025308, 173.38445687091559, 90.48371609572983, 85.53694271845649, 43.40609295922543, 38.98834666959843, 16.1025428896581, 13.621873870966786, 10.330186844708681, 10.035196132652915, 9.400318940656735, 7.220961621022022, 5.81429213435629, 1.8544200429657716, 1.8541782672249492, 1.8541698998479206, 1.8541698998479206, 1.8541698998479206, 1.8541698998479206, 1.8541698998479206, 1.8541698998479206, 1.8541698998479206, 1.8541698998479206, 1.8541698998479206, 1.854169906478307, 1.8541706855121944, 1.854171497928069, 1.8541743095665144, 1.8541771807954268, 1.8541960517776888, 1.8542050187632249, 1.8560653573076158, 1.8545207092152092, 1.85637643849669, 1.8549019547837544, 1.8545549990000836, 1.8542114072887794, 170.12749104445476, 95.28060262958604, 58.73522614429629, 56.218108213264905, 28.654502325284387, 17.461467902672776, 15.414947488834473, 11.055961217996334, 3.891945958276784, 1.854363100162095, 1.8543281232413429, 1.8541672496177717, 1.8541672496177717, 1.8541672496177717, 1.8541672496177717, 1.8541676630729262, 1.8541697485571638, 1.8542224530749811, 1.8542097921821634, 1.8541620616590073, 1.8541620616590073, 1.8541620616590073, 1.8541620616590073, 1.8541631917116943, 1.854167230200339, 1.854384222088075, 1.854159736592839, 1.854159736592839, 1.8542333957781465, 1.8542072936516547, 1.8543505174169335, 1.85637643849669, 1.8560653573076158, 1.8549739262687042, 160.95730977681535, 110.38405820943854, 46.29187404696975, 43.82422142802639, 40.61696757627262, 25.300825836193585, 10.350264927909079, 9.938364041917849, 1.8560653573076158, 1.8543823057792588, 1.8542100823575784, 1.854206421060204, 1.8541600655147672, 1.8542102127159703, 1.8541585294790064, 1.854157888411174, 1.8541571251589553, 1.854187026173444, 1.8541556708428433, 1.8541556708428433, 1.8541556708428433, 1.854156347831425, 1.8541563714783988, 1.8541749593547736, 1.8542031219441917, 1.8542031219441917, 1.8542031219441917, 1.8541856827486682, 1.8542054487658495, 1.8541538127759023, 1.8544200429657716, 1.8547443037475577, 1.8542167334993411, 1.8543420147980454, 1.8544491465592254, 1.8543371707179375, 1.8542593680782602, 1.8542657770136943, 1.8542313323972004, 1.8544661124375776, 1.8546599114197775, 1.8549019547837544, 1.85637643849669, 1.854285627945154, 168.83564283533164, 99.92252333450968, 23.401729728936125, 21.23047078631616, 14.055830498729303, 1.8542446661946754, 1.854199274382606, 1.8543588588628046, 1.8542423292149481, 1.8541613608808605, 1.8544029295004847, 1.854160000212348, 1.854160000212348, 1.854160000212348, 1.854160000212348, 1.854160000212348, 1.854160000212348, 1.854160000212348, 1.854160000212348, 1.854160000212348, 1.854160000212348, 1.8541600176411144, 1.854160684078985, 1.8541690064288634, 1.8541882985143088, 1.854192819779223, 1.8541943793982254, 1.8542042374408512, 1.8542046500409939, 1.854227261358571, 1.8543005827670032, 1.8560653573076158, 1.8546777438276663, 1.8545027912164551, 1.8549382515361639, 1.85637643849669, 1.854393997900545, 1.8545216541739464, 1.854292257113518, 1.8542967246621722, 69.53623335757705, 49.65796682629773, 36.133227438251176, 21.43519822858292, 19.239968564097552, 1.8541735390120648, 1.854163696872508, 1.8541820517866625, 1.8541544786645956, 1.8541544786645956, 1.8541544786645956, 1.8541527802740556, 1.8541527802740556, 1.8541527802740556, 1.8541632664296883, 1.8541501331252925, 1.8541501331252925, 1.8541501331252925, 1.8541501827912188, 1.8541518795078158, 1.8542156809134676, 1.8541497783840308, 1.8541497783840308, 1.8541497783840308, 1.8541497783840308, 1.8541497783840308, 1.8541497783840308, 1.8541497783840308, 1.8541497783840308, 1.8541498488558887, 1.8542593680782602, 1.8547443037475577, 1.85637643849669, 1.8549019547837544, 1.854263247283485, 1.8544478974254832, 1.854236581760492, 1.8542186610180271, 1.8542784672927661, 285.592449677768, 1.8549019547837544, 1.854377574372644, 1.8542657770136943, 1.8542839439550363, 1.85417039086458, 1.8541626172881962, 1.8541626172881962, 1.8541626172881962, 1.8541626172881962, 1.8541626172881962, 1.8541626172881962, 1.8541626172881962, 1.8541637523842058, 1.8541750397226622, 1.8541960517776888, 1.8542046353330555, 1.8542197330777528, 1.854222880039881, 1.8542945210808313, 1.8543210562001722, 1.8542212520605552, 1.854212058286313, 1.8546599114197775, 1.8545094124659762, 1.8542594324685875, 1.8543588588628046, 1.8542171651486155, 1.8541951870102402, 1.8541506823758136, 1.8541943407306103, 1.8560653573076158, 1.8543371707179375, 1.85637643849669, 102.03146381877266, 1.8541488594084772, 1.8541488594084772, 1.8541555436943635, 1.8541619940238154, 1.8541707716972056, 1.854198434454642, 1.8542745408092929, 1.8541937616115511, 1.8545216541739464, 1.854170833999131, 1.8541759377518283, 1.854171356171713, 1.854171356171713, 1.854171356171713, 1.8541501753973766, 1.8541814016414224, 1.8544478974254832, 1.8541926108481048, 1.8542268914875863, 1.854178564875112, 1.8541430758894069, 1.8541430758894069, 1.8541430758894069, 1.8541424934156652, 1.8541424934156652, 1.8541424934156652, 1.8541448017366604, 1.8541711786468156, 1.8541419622689281, 1.8541629296890687, 1.8541948973809, 1.8546429928025308, 1.854424622760761, 1.854363100162095, 1.85637643849669, 1.8549739262687042, 1.8547443037475577, 1.8560653573076158, 55.16424037949065, 1.8541487646096086, 1.8541492782994797, 1.8541725409299543, 1.8542128322462945, 1.8541954533222036, 1.8541419454292891, 1.8541419454292891, 1.8541419454292891, 1.8541419454292891, 1.8541419454292891, 1.8541419454292891, 1.8541419454292891, 1.8541419454292891, 1.8541419454292891, 1.8541419454292891, 1.8541431620958118, 1.8541436752975455, 1.8541453661782072, 1.854150018854661, 1.8541506057446555, 1.8541746338615201, 1.8541655659897343, 1.854180223141872, 1.85414015080944, 1.85414015080944, 1.85414015080944, 1.85414015080944, 1.85414015080944, 1.8541403002461034, 1.8545216541739464, 1.8542078795663528, 1.8544186802593852, 1.8542212559367126, 1.8549019547837544, 1.854289105427316, 1.8560653573076158, 1.8549382515361639, 1.85637643849669, 1.8549739262687042, 1.8543272170331846, 1.8547443037475577, 96.8796351756992, 32.50978387342235, 1.854151989205331, 1.8542839439550363, 1.854212058286313, 1.8541477824795394, 1.8541477824795394, 1.8541477824795394, 1.8541477824795394, 1.8541478475860023, 1.8541494667144263, 1.8541516158770477, 1.8541537498701313, 1.8541598762864515, 1.8541647112429982, 1.854167479917249, 1.854175443426011, 1.8541834278690865, 1.854146718320601, 1.854146718320601, 1.8541509724263843, 1.854197719414118, 1.8541696090347226, 1.8541459395524027, 1.8541459395524027, 1.8541459395524027, 1.8541459395524027, 1.8541459395524027, 1.8541459395524027, 1.8541459395524027, 1.854288809815773, 1.8546599114197775, 1.8542156809134676, 1.8560653573076158, 1.8549019547837544, 1.8546719375847014, 1.854226967116165, 1.8549382515361639, 35.83498401738141, 11.32405920955848, 4.811629006881696, 1.8541476617162562, 1.8541631589601626, 1.85414408424019, 1.8541433820028523, 1.8541433820028523, 1.8541606299164806, 1.8541606299164806, 1.8541613828630505, 1.854161876365667, 1.8541651947762192, 1.8541661344240334, 1.8541410895030284, 1.8541410895030284, 1.8541414801250888, 1.8541459656935795, 1.8541403053153045, 1.8541815325638291, 1.8541858478414326, 1.8541471074916585, 1.8541471074916585, 1.8541471074916585, 1.854147143024623, 1.8541534053074262, 1.8541540624826551, 1.8541626434653986, 1.8541424183165485, 1.8541424183165485, 1.854173334328987, 1.8541774633545645, 1.8549382515361639, 1.8560653573076158, 1.85637643849669, 1.8542942600406083, 1.85413652244257, 1.85413652244257, 1.85413652244257, 1.85413652244257, 1.85413652244257, 1.85413652244257, 1.85413652244257, 1.85413652244257, 1.85413652244257, 1.85413652244257, 1.85413652244257, 1.85413652244257, 1.85413652244257, 1.85413652244257, 1.85413652244257, 1.85413652244257, 1.85413652244257, 1.85413652244257, 1.85413652244257, 1.85413652244257, 1.85413652244257, 1.85413652244257, 1.85413652244257, 1.85413652244257, 1.85413652244257, 1.85413652244257, 1.85413652244257, 1.85413652244257, 1.85413652244257, 1.85413652244257, 1.8541774587482327, 1.8541408440068414, 165.7023073423024, 83.669373910456, 1.854136840028778, 49.65796682629773, 377.7294649710234, 78.78287520815083, 10.824505366981876, 1.8541512567751912, 201.7162937709856, 10.881196580772128, 63.909411950154364, 232.39322494157466, 168.69004742953717, 1.8541919758515009, 22.73657293203159, 10.330186844708681, 1.85413652244257, 1.85413652244257, 1.85413652244257, 1.85413652244257, 1.85413652244257, 1.85413652244257, 1.85413652244257, 1.85413652244257, 1.85413652244257, 1.85413652244257, 1.85413652244257, 1.85413652244257, 1.85413652244257, 1.85413652244257, 1.85413652244257, 1.85413652244257, 1.85413652244257, 1.85413652244257, 1.85413652244257, 1.85413652244257, 1.85413652244257, 1.85413652244257, 1.85413652244257, 1.85413652244257, 1.85413652244257, 1.85413652244257, 1.85413652244257, 1.85413652244257, 1.85413652244257, 1.85413652244257, 1.8541774587482327, 1.8541408440068414, 165.7023073423024, 83.669373910456, 1.854136840028778, 49.65796682629773, 377.7294649710234, 78.78287520815083, 10.824505366981876, 1.8541512567751912, 201.7162937709856, 10.881196580772128, 63.909411950154364, 232.39322494157466, 168.69004742953717, 1.8541919758515009, 22.73657293203159, 10.330186844708681], \"Category\": [\"Default\", \"Default\", \"Default\", \"Default\", \"Default\", \"Default\", \"Default\", \"Default\", \"Default\", \"Default\", \"Default\", \"Default\", \"Default\", \"Default\", \"Default\", \"Default\", \"Default\", \"Default\", \"Default\", \"Default\", \"Default\", \"Default\", \"Default\", \"Default\", \"Default\", \"Default\", \"Default\", \"Default\", \"Default\", \"Default\", \"Topic1\", \"Topic1\", \"Topic1\", \"Topic1\", \"Topic1\", \"Topic1\", \"Topic1\", \"Topic1\", \"Topic1\", \"Topic1\", \"Topic1\", \"Topic1\", \"Topic1\", \"Topic1\", \"Topic1\", \"Topic1\", \"Topic1\", \"Topic1\", \"Topic1\", \"Topic1\", \"Topic1\", \"Topic1\", \"Topic1\", \"Topic1\", \"Topic1\", \"Topic1\", \"Topic1\", \"Topic1\", \"Topic1\", \"Topic1\", \"Topic1\", \"Topic1\", \"Topic1\", \"Topic1\", \"Topic1\", \"Topic1\", \"Topic1\", \"Topic1\", \"Topic1\", \"Topic1\", \"Topic1\", \"Topic1\", \"Topic2\", \"Topic2\", \"Topic2\", \"Topic2\", \"Topic2\", \"Topic2\", \"Topic2\", \"Topic2\", \"Topic2\", \"Topic2\", \"Topic2\", \"Topic2\", \"Topic2\", \"Topic2\", \"Topic2\", \"Topic2\", \"Topic2\", \"Topic2\", \"Topic2\", \"Topic2\", \"Topic2\", \"Topic2\", \"Topic2\", \"Topic2\", \"Topic2\", \"Topic2\", \"Topic2\", \"Topic2\", \"Topic2\", \"Topic2\", \"Topic2\", \"Topic2\", \"Topic2\", \"Topic2\", \"Topic2\", \"Topic3\", \"Topic3\", \"Topic3\", \"Topic3\", \"Topic3\", \"Topic3\", \"Topic3\", \"Topic3\", \"Topic3\", \"Topic3\", \"Topic3\", \"Topic3\", \"Topic3\", \"Topic3\", \"Topic3\", \"Topic3\", \"Topic3\", \"Topic3\", \"Topic3\", \"Topic3\", \"Topic3\", \"Topic3\", \"Topic3\", \"Topic3\", \"Topic3\", \"Topic3\", \"Topic3\", \"Topic3\", \"Topic3\", \"Topic3\", \"Topic3\", \"Topic3\", \"Topic3\", \"Topic3\", \"Topic3\", \"Topic3\", \"Topic3\", \"Topic3\", \"Topic3\", \"Topic4\", \"Topic4\", \"Topic4\", \"Topic4\", \"Topic4\", \"Topic4\", \"Topic4\", \"Topic4\", \"Topic4\", \"Topic4\", \"Topic4\", \"Topic4\", \"Topic4\", \"Topic4\", \"Topic4\", \"Topic4\", \"Topic4\", \"Topic4\", \"Topic4\", \"Topic4\", \"Topic4\", \"Topic4\", \"Topic4\", \"Topic4\", \"Topic4\", \"Topic4\", \"Topic4\", \"Topic4\", \"Topic4\", \"Topic4\", \"Topic4\", \"Topic4\", \"Topic4\", \"Topic4\", \"Topic4\", \"Topic4\", \"Topic4\", \"Topic4\", \"Topic4\", \"Topic4\", \"Topic5\", \"Topic5\", \"Topic5\", \"Topic5\", \"Topic5\", \"Topic5\", \"Topic5\", \"Topic5\", \"Topic5\", \"Topic5\", \"Topic5\", \"Topic5\", \"Topic5\", \"Topic5\", \"Topic5\", \"Topic5\", \"Topic5\", \"Topic5\", \"Topic5\", \"Topic5\", \"Topic5\", \"Topic5\", \"Topic5\", \"Topic5\", \"Topic5\", \"Topic5\", \"Topic5\", \"Topic5\", \"Topic5\", \"Topic5\", \"Topic5\", \"Topic5\", \"Topic5\", \"Topic5\", \"Topic5\", \"Topic5\", \"Topic5\", \"Topic5\", \"Topic6\", \"Topic6\", \"Topic6\", \"Topic6\", \"Topic6\", \"Topic6\", \"Topic6\", \"Topic6\", \"Topic6\", \"Topic6\", \"Topic6\", \"Topic6\", \"Topic6\", \"Topic6\", \"Topic6\", \"Topic6\", \"Topic6\", \"Topic6\", \"Topic6\", \"Topic6\", \"Topic6\", \"Topic6\", \"Topic6\", \"Topic6\", \"Topic6\", \"Topic6\", \"Topic6\", \"Topic6\", \"Topic6\", \"Topic6\", \"Topic6\", \"Topic6\", \"Topic6\", \"Topic6\", \"Topic6\", \"Topic6\", \"Topic6\", \"Topic6\", \"Topic6\", \"Topic6\", \"Topic7\", \"Topic7\", \"Topic7\", \"Topic7\", \"Topic7\", \"Topic7\", \"Topic7\", \"Topic7\", \"Topic7\", \"Topic7\", \"Topic7\", \"Topic7\", \"Topic7\", \"Topic7\", \"Topic7\", \"Topic7\", \"Topic7\", \"Topic7\", \"Topic7\", \"Topic7\", \"Topic7\", \"Topic7\", \"Topic7\", \"Topic7\", \"Topic7\", \"Topic7\", \"Topic7\", \"Topic7\", \"Topic7\", \"Topic7\", \"Topic7\", \"Topic7\", \"Topic7\", \"Topic7\", \"Topic7\", \"Topic7\", \"Topic7\", \"Topic7\", \"Topic7\", \"Topic7\", \"Topic7\", \"Topic7\", \"Topic7\", \"Topic7\", \"Topic8\", \"Topic8\", \"Topic8\", \"Topic8\", \"Topic8\", \"Topic8\", \"Topic8\", \"Topic8\", \"Topic8\", \"Topic8\", \"Topic8\", \"Topic8\", \"Topic8\", \"Topic8\", \"Topic8\", \"Topic8\", \"Topic8\", \"Topic8\", \"Topic8\", \"Topic8\", \"Topic8\", \"Topic8\", \"Topic8\", \"Topic8\", \"Topic8\", \"Topic8\", \"Topic8\", \"Topic8\", \"Topic8\", \"Topic8\", \"Topic8\", \"Topic8\", \"Topic8\", \"Topic8\", \"Topic8\", \"Topic8\", \"Topic8\", \"Topic8\", \"Topic8\", \"Topic8\", \"Topic9\", \"Topic9\", \"Topic9\", \"Topic9\", \"Topic9\", \"Topic9\", \"Topic9\", \"Topic9\", \"Topic9\", \"Topic9\", \"Topic9\", \"Topic9\", \"Topic9\", \"Topic9\", \"Topic9\", \"Topic9\", \"Topic9\", \"Topic9\", \"Topic9\", \"Topic9\", \"Topic9\", \"Topic9\", \"Topic9\", \"Topic9\", \"Topic9\", \"Topic9\", \"Topic9\", \"Topic9\", \"Topic9\", \"Topic9\", \"Topic9\", \"Topic9\", \"Topic9\", \"Topic9\", \"Topic9\", \"Topic9\", \"Topic10\", \"Topic10\", \"Topic10\", \"Topic10\", \"Topic10\", \"Topic10\", \"Topic10\", \"Topic10\", \"Topic10\", \"Topic10\", \"Topic10\", \"Topic10\", \"Topic10\", \"Topic10\", \"Topic10\", \"Topic10\", \"Topic10\", \"Topic10\", \"Topic10\", \"Topic10\", \"Topic10\", \"Topic10\", \"Topic10\", \"Topic10\", \"Topic10\", \"Topic10\", \"Topic10\", \"Topic10\", \"Topic10\", \"Topic10\", \"Topic10\", \"Topic10\", \"Topic10\", \"Topic10\", \"Topic11\", \"Topic11\", \"Topic11\", \"Topic11\", \"Topic11\", \"Topic11\", \"Topic11\", \"Topic11\", \"Topic11\", \"Topic11\", \"Topic11\", \"Topic11\", \"Topic11\", \"Topic11\", \"Topic11\", \"Topic11\", \"Topic11\", \"Topic11\", \"Topic11\", \"Topic11\", \"Topic11\", \"Topic11\", \"Topic11\", \"Topic11\", \"Topic11\", \"Topic11\", \"Topic11\", \"Topic11\", \"Topic11\", \"Topic11\", \"Topic11\", \"Topic11\", \"Topic11\", \"Topic11\", \"Topic11\", \"Topic11\", \"Topic11\", \"Topic11\", \"Topic11\", \"Topic11\", \"Topic11\", \"Topic11\", \"Topic11\", \"Topic11\", \"Topic12\", \"Topic12\", \"Topic12\", \"Topic12\", \"Topic12\", \"Topic12\", \"Topic12\", \"Topic12\", \"Topic12\", \"Topic12\", \"Topic12\", \"Topic12\", \"Topic12\", \"Topic12\", \"Topic12\", \"Topic12\", \"Topic12\", \"Topic12\", \"Topic12\", \"Topic12\", \"Topic12\", \"Topic12\", \"Topic12\", \"Topic12\", \"Topic12\", \"Topic12\", \"Topic12\", \"Topic12\", \"Topic12\", \"Topic12\", \"Topic12\", \"Topic12\", \"Topic12\", \"Topic12\", \"Topic12\", \"Topic12\", \"Topic12\", \"Topic12\", \"Topic12\", \"Topic12\", \"Topic13\", \"Topic13\", \"Topic13\", \"Topic13\", \"Topic13\", \"Topic13\", \"Topic13\", \"Topic13\", \"Topic13\", \"Topic13\", \"Topic13\", \"Topic13\", \"Topic13\", \"Topic13\", \"Topic13\", \"Topic13\", \"Topic13\", \"Topic13\", \"Topic13\", \"Topic13\", \"Topic13\", \"Topic13\", \"Topic13\", \"Topic13\", \"Topic13\", \"Topic13\", \"Topic13\", \"Topic13\", \"Topic13\", \"Topic13\", \"Topic13\", \"Topic13\", \"Topic13\", \"Topic13\", \"Topic13\", \"Topic13\", \"Topic13\", \"Topic13\", \"Topic13\", \"Topic14\", \"Topic14\", \"Topic14\", \"Topic14\", \"Topic14\", \"Topic14\", \"Topic14\", \"Topic14\", \"Topic14\", \"Topic14\", \"Topic14\", \"Topic14\", \"Topic14\", \"Topic14\", \"Topic14\", \"Topic14\", \"Topic14\", \"Topic14\", \"Topic14\", \"Topic14\", \"Topic14\", \"Topic14\", \"Topic14\", \"Topic14\", \"Topic14\", \"Topic14\", \"Topic14\", \"Topic14\", \"Topic14\", \"Topic14\", \"Topic14\", \"Topic14\", \"Topic14\", \"Topic14\", \"Topic15\", \"Topic15\", \"Topic15\", \"Topic15\", \"Topic15\", \"Topic15\", \"Topic15\", \"Topic15\", \"Topic15\", \"Topic15\", \"Topic15\", \"Topic15\", \"Topic15\", \"Topic15\", \"Topic15\", \"Topic15\", \"Topic15\", \"Topic15\", \"Topic15\", \"Topic15\", \"Topic15\", \"Topic15\", \"Topic15\", \"Topic15\", \"Topic15\", \"Topic15\", \"Topic15\", \"Topic15\", \"Topic15\", \"Topic15\", \"Topic15\", \"Topic15\", \"Topic15\", \"Topic15\", \"Topic15\", \"Topic15\", \"Topic15\", \"Topic15\", \"Topic15\", \"Topic16\", \"Topic16\", \"Topic16\", \"Topic16\", \"Topic16\", \"Topic16\", \"Topic16\", \"Topic16\", \"Topic16\", \"Topic16\", \"Topic16\", \"Topic16\", \"Topic16\", \"Topic16\", \"Topic16\", \"Topic16\", \"Topic16\", \"Topic16\", \"Topic16\", \"Topic16\", \"Topic16\", \"Topic16\", \"Topic16\", \"Topic16\", \"Topic16\", \"Topic16\", \"Topic16\", \"Topic16\", \"Topic16\", \"Topic16\", \"Topic16\", \"Topic16\", \"Topic16\", \"Topic16\", \"Topic16\", \"Topic16\", \"Topic16\", \"Topic16\", \"Topic16\", \"Topic16\", \"Topic16\", \"Topic16\", \"Topic17\", \"Topic17\", \"Topic17\", \"Topic17\", \"Topic17\", \"Topic17\", \"Topic17\", \"Topic17\", \"Topic17\", \"Topic17\", \"Topic17\", \"Topic17\", \"Topic17\", \"Topic17\", \"Topic17\", \"Topic17\", \"Topic17\", \"Topic17\", \"Topic17\", \"Topic17\", \"Topic17\", \"Topic17\", \"Topic17\", \"Topic17\", \"Topic17\", \"Topic17\", \"Topic17\", \"Topic17\", \"Topic17\", \"Topic17\", \"Topic17\", \"Topic17\", \"Topic17\", \"Topic17\", \"Topic17\", \"Topic17\", \"Topic17\", \"Topic17\", \"Topic18\", \"Topic18\", \"Topic18\", \"Topic18\", \"Topic18\", \"Topic18\", \"Topic18\", \"Topic18\", \"Topic18\", \"Topic18\", \"Topic18\", \"Topic18\", \"Topic18\", \"Topic18\", \"Topic18\", \"Topic18\", \"Topic18\", \"Topic18\", \"Topic18\", \"Topic18\", \"Topic18\", \"Topic18\", \"Topic18\", \"Topic18\", \"Topic18\", \"Topic18\", \"Topic18\", \"Topic18\", \"Topic18\", \"Topic18\", \"Topic18\", \"Topic18\", \"Topic18\", \"Topic18\", \"Topic18\", \"Topic18\", \"Topic19\", \"Topic19\", \"Topic19\", \"Topic19\", \"Topic19\", \"Topic19\", \"Topic19\", \"Topic19\", \"Topic19\", \"Topic19\", \"Topic19\", \"Topic19\", \"Topic19\", \"Topic19\", \"Topic19\", \"Topic19\", \"Topic19\", \"Topic19\", \"Topic19\", \"Topic19\", \"Topic19\", \"Topic19\", \"Topic19\", \"Topic19\", \"Topic19\", \"Topic19\", \"Topic19\", \"Topic19\", \"Topic19\", \"Topic19\", \"Topic19\", \"Topic19\", \"Topic19\", \"Topic19\", \"Topic19\", \"Topic19\", \"Topic19\", \"Topic19\", \"Topic19\", \"Topic19\", \"Topic19\", \"Topic19\", \"Topic19\", \"Topic19\", \"Topic19\", \"Topic19\", \"Topic19\", \"Topic19\", \"Topic20\", \"Topic20\", \"Topic20\", \"Topic20\", \"Topic20\", \"Topic20\", \"Topic20\", \"Topic20\", \"Topic20\", \"Topic20\", \"Topic20\", \"Topic20\", \"Topic20\", \"Topic20\", \"Topic20\", \"Topic20\", \"Topic20\", \"Topic20\", \"Topic20\", \"Topic20\", \"Topic20\", \"Topic20\", \"Topic20\", \"Topic20\", \"Topic20\", \"Topic20\", \"Topic20\", \"Topic20\", \"Topic20\", \"Topic20\", \"Topic20\", \"Topic20\", \"Topic20\", \"Topic20\", \"Topic20\", \"Topic20\", \"Topic20\", \"Topic20\", \"Topic20\", \"Topic20\", \"Topic20\", \"Topic20\", \"Topic20\", \"Topic20\", \"Topic20\", \"Topic20\", \"Topic20\", \"Topic20\"], \"logprob\": [30.0, 29.0, 28.0, 27.0, 26.0, 25.0, 24.0, 23.0, 22.0, 21.0, 20.0, 19.0, 18.0, 17.0, 16.0, 15.0, 14.0, 13.0, 12.0, 11.0, 10.0, 9.0, 8.0, 7.0, 6.0, 5.0, 4.0, 3.0, 2.0, 1.0, -1.518, -3.7193, -4.9025, -5.1643, -5.6274, -9.4149, -10.7338, -10.7347, -10.7361, -10.7361, -10.7362, -10.7359, -10.7363, -10.7362, -10.7363, -10.7363, -10.7364, -10.7363, -10.7364, -10.7364, -10.7364, -10.7364, -10.7364, -10.7364, -10.7364, -10.7364, -10.7362, -10.7363, -10.7364, -10.7364, -10.7362, -10.7361, -10.7362, -10.7364, -10.7363, -10.7363, -10.7364, -10.7363, -10.7364, -10.7363, -10.7364, -10.7364, -3.1203, -3.2378, -3.6529, -3.7262, -3.8689, -4.0493, -4.0673, -4.6626, -4.8219, -5.3514, -5.403, -5.8403, -6.9434, -6.9495, -7.6911, -8.5019, -10.6825, -10.6839, -10.6841, -10.6839, -10.6842, -10.684, -10.6843, -10.6842, -10.6844, -10.6843, -10.6844, -10.6844, -10.6845, -10.6845, -10.6843, -10.6842, -10.6839, -10.6844, -10.6844, -2.1047, -2.779, -3.6216, -3.9167, -4.4223, -5.0694, -5.1132, -6.3201, -6.388, -8.4166, -10.7328, -10.7337, -10.7338, -10.7338, -10.7338, -10.7339, -10.734, -10.734, -10.734, -10.734, -10.734, -10.734, -10.734, -10.7341, -10.7339, -10.7341, -10.7339, -10.7341, -10.7341, -10.7341, -10.734, -10.734, -10.7339, -10.7339, -10.734, -10.734, -10.7337, -10.734, -10.734, -2.5197, -3.2025, -3.6808, -3.9114, -4.0913, -4.6851, -5.6234, -5.7939, -6.1694, -7.0703, -10.66, -10.66, -10.6599, -10.6601, -10.6604, -10.6604, -10.66, -10.6604, -10.6603, -10.6592, -10.6604, -10.6604, -10.6604, -10.6604, -10.6605, -10.6605, -10.6605, -10.6605, -10.6605, -10.6605, -10.6604, -10.6603, -10.6604, -10.6604, -10.6599, -10.6605, -10.6603, -10.6604, -10.6604, -10.6604, -3.0427, -3.3845, -3.6179, -3.6891, -4.2355, -4.4758, -4.7513, -4.9825, -5.4972, -5.9475, -6.8813, -7.7582, -7.9236, -8.3119, -8.9043, -10.637, -10.6376, -10.6376, -10.6376, -10.6376, -10.6378, -10.6378, -10.6376, -10.6378, -10.6377, -10.6378, -10.6376, -10.6378, -10.6378, -10.6377, -10.6376, -10.6377, -10.6376, -10.6373, -10.6374, -10.6377, -10.6377, -10.6377, -2.7067, -2.9251, -3.9477, -4.4126, -5.4586, -5.7451, -5.9713, -10.6109, -10.6113, -10.6114, -10.6115, -10.6115, -10.6116, -10.6116, -10.6116, -10.6116, -10.6116, -10.6116, -10.6115, -10.6116, -10.6116, -10.6116, -10.6116, -10.6117, -10.6117, -10.6117, -10.6117, -10.6117, -10.6117, -10.6117, -10.6114, -10.6116, -10.6116, -10.6109, -10.6116, -10.6115, -10.6116, -10.6111, -10.6115, -10.6116, -3.4644, -3.6231, -3.6538, -3.69, -3.8809, -4.099, -4.4666, -5.8876, -6.1185, -6.1211, -6.7072, -7.1442, -10.6172, -10.6172, -10.6173, -10.6172, -10.6174, -10.6174, -10.6174, -10.6174, -10.6174, -10.6173, -10.6173, -10.6174, -10.6174, -10.6174, -10.6174, -10.6174, -10.6174, -10.6173, -10.6164, -10.6171, -10.6173, -10.6173, -10.6172, -10.6166, -10.6172, -10.6173, -10.6173, -10.6173, -10.6173, -10.6173, -10.6173, -10.6173, -2.8169, -3.1802, -3.2334, -4.1238, -4.8767, -5.6586, -6.013, -7.3972, -10.6221, -10.6226, -10.6226, -10.6226, -10.6227, -10.6227, -10.6227, -10.6227, -10.6228, -10.6226, -10.6228, -10.6228, -10.6228, -10.6227, -10.6227, -10.6228, -10.6228, -10.6228, -10.6228, -10.6228, -10.6227, -10.6228, -10.6225, -10.6224, -10.6227, -10.6227, -10.6227, -10.6223, -10.6227, -10.6224, -10.6227, -10.6227, -3.1155, -3.7753, -3.8327, -4.5316, -4.6437, -5.5973, -5.7871, -6.112, -6.147, -6.2267, -6.5623, -6.8598, -10.5681, -10.5683, -10.5683, -10.5683, -10.5683, -10.5683, -10.5683, -10.5683, -10.5683, -10.5683, -10.5683, -10.5683, -10.5683, -10.5683, -10.5683, -10.5683, -10.5683, -10.5683, -10.5676, -10.5682, -10.5678, -10.5682, -10.5682, -10.5683, -3.075, -3.663, -4.1585, -4.2037, -4.9092, -5.4474, -5.587, -5.9716, -7.4441, -10.5637, -10.5638, -10.5639, -10.5639, -10.5639, -10.5639, -10.5639, -10.5639, -10.5639, -10.5639, -10.564, -10.564, -10.564, -10.564, -10.564, -10.564, -10.5639, -10.564, -10.564, -10.564, -10.564, -10.5639, -10.5629, -10.5636, -10.5639, -3.0717, -3.454, -4.3457, -4.4028, -4.4821, -4.9833, -5.9919, -6.0411, -10.5687, -10.5698, -10.5699, -10.5699, -10.57, -10.5699, -10.57, -10.57, -10.57, -10.57, -10.57, -10.57, -10.57, -10.57, -10.57, -10.57, -10.57, -10.57, -10.57, -10.57, -10.57, -10.57, -10.5699, -10.5698, -10.57, -10.57, -10.5699, -10.57, -10.57, -10.57, -10.57, -10.5699, -10.5699, -10.5699, -10.5697, -10.57, -2.9591, -3.491, -5.0033, -5.1091, -5.569, -10.5391, -10.5392, -10.5392, -10.5392, -10.5393, -10.5391, -10.5393, -10.5393, -10.5393, -10.5393, -10.5393, -10.5393, -10.5393, -10.5393, -10.5393, -10.5393, -10.5393, -10.5393, -10.5393, -10.5393, -10.5393, -10.5393, -10.5393, -10.5393, -10.5393, -10.5393, -10.5387, -10.5392, -10.5393, -10.5392, -10.5391, -10.5393, -10.5393, -10.5393, -10.5393, -3.5347, -3.8821, -4.2141, -4.7727, -4.8912, -10.5188, -10.5189, -10.519, -10.5191, -10.5191, -10.5191, -10.5191, -10.5191, -10.5191, -10.5191, -10.5191, -10.5191, -10.5191, -10.5191, -10.5191, -10.5191, -10.5192, -10.5192, -10.5192, -10.5192, -10.5192, -10.5192, -10.5192, -10.5192, -10.5192, -10.5191, -10.5189, -10.5186, -10.519, -10.5191, -10.5191, -10.5192, -10.5192, -10.5192, -2.0459, -10.573, -10.5733, -10.5734, -10.5734, -10.5735, -10.5735, -10.5735, -10.5735, -10.5735, -10.5735, -10.5735, -10.5735, -10.5735, -10.5735, -10.5735, -10.5735, -10.5735, -10.5735, -10.5735, -10.5735, -10.5736, -10.5736, -10.5734, -10.5734, -10.5736, -10.5736, -10.5737, -10.5737, -10.5737, -10.5737, -10.5729, -10.5736, -10.5733, -2.8166, -10.4969, -10.4969, -10.4969, -10.4969, -10.4969, -10.4969, -10.4969, -10.497, -10.4968, -10.497, -10.497, -10.497, -10.497, -10.497, -10.497, -10.497, -10.4969, -10.497, -10.497, -10.497, -10.4971, -10.4971, -10.4971, -10.4971, -10.4971, -10.4971, -10.4971, -10.4971, -10.4971, -10.4971, -10.4971, -10.4969, -10.497, -10.497, -10.4967, -10.497, -10.497, -10.497, -3.2745, -10.4738, -10.4738, -10.4738, -10.4738, -10.4739, -10.474, -10.474, -10.474, -10.474, -10.474, -10.474, -10.474, -10.474, -10.474, -10.474, -10.474, -10.474, -10.474, -10.474, -10.474, -10.4739, -10.474, -10.474, -10.474, -10.474, -10.474, -10.474, -10.474, -10.474, -10.4738, -10.474, -10.4739, -10.474, -10.4738, -10.474, -10.4737, -10.4739, -10.4738, -10.4739, -10.474, -10.474, -2.6962, -3.8267, -10.5286, -10.5286, -10.5286, -10.5287, -10.5287, -10.5287, -10.5287, -10.5287, -10.5287, -10.5287, -10.5287, -10.5287, -10.5287, -10.5287, -10.5287, -10.5287, -10.5287, -10.5287, -10.5287, -10.5287, -10.5287, -10.5287, -10.5287, -10.5287, -10.5287, -10.5287, -10.5287, -10.5287, -10.5287, -10.5286, -10.5287, -10.5284, -10.5286, -10.5287, -10.5287, -10.5287, -3.3999, -4.6754, -5.8326, -10.4818, -10.4818, -10.4819, -10.482, -10.482, -10.482, -10.482, -10.482, -10.482, -10.482, -10.482, -10.482, -10.482, -10.482, -10.482, -10.482, -10.482, -10.482, -10.4821, -10.4821, -10.4821, -10.4821, -10.4821, -10.4821, -10.4821, -10.4821, -10.4821, -10.4821, -10.4821, -10.4819, -10.4819, -10.4821, -10.4821, -10.4355, -10.4355, -10.4355, -10.4355, -10.4355, -10.4355, -10.4355, -10.4355, -10.4355, -10.4355, -10.4355, -10.4355, -10.4355, -10.4355, -10.4355, -10.4355, -10.4355, -10.4355, -10.4355, -10.4355, -10.4355, -10.4355, -10.4355, -10.4355, -10.4355, -10.4355, -10.4355, -10.4355, -10.4355, -10.4355, -10.4355, -10.4355, -10.4355, -10.4355, -10.4355, -10.4355, -10.4355, -10.4355, -10.4355, -10.4355, -10.4355, -10.4355, -10.4355, -10.4355, -10.4355, -10.4355, -10.4355, -10.4355, -10.4355, -10.4355, -10.4355, -10.4355, -10.4355, -10.4355, -10.4355, -10.4355, -10.4355, -10.4355, -10.4355, -10.4355, -10.4355, -10.4355, -10.4355, -10.4355, -10.4355, -10.4355, -10.4355, -10.4355, -10.4355, -10.4355, -10.4355, -10.4355, -10.4355, -10.4355, -10.4355, -10.4355, -10.4355, -10.4355, -10.4355, -10.4355, -10.4355, -10.4355, -10.4355, -10.4355, -10.4355, -10.4355, -10.4355, -10.4355, -10.4355, -10.4355, -10.4355, -10.4355, -10.4355, -10.4355, -10.4355, -10.4355], \"loglift\": [30.0, 29.0, 28.0, 27.0, 26.0, 25.0, 24.0, 23.0, 22.0, 21.0, 20.0, 19.0, 18.0, 17.0, 16.0, 15.0, 14.0, 13.0, 12.0, 11.0, 10.0, 9.0, 8.0, 7.0, 6.0, 5.0, 4.0, 3.0, 2.0, 1.0, 2.039, 2.033, 2.0178, 2.0114, 1.995, 0.9348, -0.1071, -0.1077, -0.1083, -0.1083, -0.1084, -0.1084, -0.1084, -0.1084, -0.1085, -0.1085, -0.1085, -0.1085, -0.1085, -0.1085, -0.1085, -0.1085, -0.1085, -0.1085, -0.1085, -0.1085, -0.1085, -0.1085, -0.1085, -0.1085, -0.1085, -0.1085, -0.1085, -0.1085, -0.1086, -0.1086, -0.1085, -0.1086, -0.1085, -0.1088, -0.1086, -0.1087, 2.0739, 2.0734, 2.0712, 2.0707, 2.0696, 2.068, 2.0679, 2.0599, 2.0568, 2.0424, 2.0406, 2.0208, 1.915, 1.914, 1.7605, 1.4679, -0.0558, -0.0561, -0.0562, -0.0564, -0.0564, -0.0565, -0.0565, -0.0565, -0.0566, -0.0566, -0.0566, -0.0566, -0.0566, -0.0566, -0.0566, -0.0567, -0.057, -0.0567, -0.0567, 2.4148, 2.4128, 2.4075, 2.4044, 2.3962, 2.3779, 2.3762, 2.2868, 2.2783, 1.6609, -0.1059, -0.1059, -0.1059, -0.1059, -0.106, -0.1061, -0.1061, -0.1061, -0.1061, -0.1061, -0.1061, -0.1061, -0.1061, -0.1062, -0.1062, -0.1062, -0.1062, -0.1062, -0.1062, -0.1062, -0.1062, -0.1062, -0.1063, -0.1063, -0.1063, -0.1063, -0.107, -0.1064, -0.1065, 2.5481, 2.5446, 2.5403, 2.5374, 2.5346, 2.521, 2.4751, 2.4615, 2.423, 2.2604, -0.0321, -0.0323, -0.0324, -0.0325, -0.0325, -0.0325, -0.0325, -0.0325, -0.0325, -0.0325, -0.0325, -0.0325, -0.0325, -0.0325, -0.0325, -0.0325, -0.0325, -0.0325, -0.0325, -0.0325, -0.0325, -0.0326, -0.0326, -0.0326, -0.033, -0.0325, -0.0328, -0.0326, -0.0327, -0.0327, 2.6328, 2.6301, 2.6277, 2.6269, 2.6178, 2.6121, 2.6036, 2.5944, 2.5653, 2.5254, 2.3716, 2.0866, 2.013, 1.8134, 1.4388, -0.0095, -0.0097, -0.0097, -0.0097, -0.0098, -0.0098, -0.0098, -0.0098, -0.0098, -0.0098, -0.0098, -0.0098, -0.0099, -0.0099, -0.0099, -0.0099, -0.0099, -0.01, -0.0103, -0.0107, -0.01, -0.01, -0.0101, 2.7368, 2.7355, 2.724, 2.7134, 2.6628, 2.6378, 2.613, 0.0166, 0.0166, 0.0164, 0.0164, 0.0164, 0.0163, 0.0163, 0.0163, 0.0163, 0.0163, 0.0163, 0.0163, 0.0163, 0.0163, 0.0163, 0.0163, 0.0163, 0.0163, 0.0163, 0.0163, 0.0163, 0.0163, 0.0163, 0.0163, 0.0163, 0.0163, 0.016, 0.0163, 0.0162, 0.0163, 0.0157, 0.0161, 0.0159, 2.78, 2.778, 2.7776, 2.777, 2.774, 2.7697, 2.76, 2.6663, 2.6362, 2.6358, 2.5268, 2.4068, 0.0107, 0.0107, 0.0106, 0.0106, 0.0106, 0.0106, 0.0106, 0.0106, 0.0106, 0.0106, 0.0106, 0.0106, 0.0106, 0.0106, 0.0106, 0.0106, 0.0106, 0.0106, 0.0105, 0.0105, 0.0105, 0.0105, 0.0105, 0.0101, 0.0104, 0.0105, 0.0105, 0.0105, 0.0105, 0.0102, 0.0104, 0.0104, 2.9563, 2.953, 2.9525, 2.9366, 2.9069, 2.8436, 2.7966, 2.4179, 0.0055, 0.0053, 0.0052, 0.0052, 0.0052, 0.0052, 0.0052, 0.0052, 0.0052, 0.0052, 0.0052, 0.0052, 0.0052, 0.0052, 0.0052, 0.0051, 0.0051, 0.0051, 0.0051, 0.0051, 0.0051, 0.0051, 0.0051, 0.0051, 0.0051, 0.0051, 0.005, 0.0046, 0.0051, 0.0044, 0.005, 0.005, 2.9743, 2.9649, 2.9638, 2.9432, 2.9384, 2.8691, 2.8466, 2.7983, 2.7923, 2.7779, 2.7061, 2.6253, 0.0597, 0.0597, 0.0597, 0.0597, 0.0597, 0.0597, 0.0597, 0.0597, 0.0597, 0.0597, 0.0597, 0.0597, 0.0597, 0.0597, 0.0597, 0.0597, 0.0597, 0.0597, 0.0593, 0.0596, 0.059, 0.0593, 0.0595, 0.0597, 3.0338, 3.0256, 3.0138, 3.0124, 2.9808, 2.938, 2.923, 2.8708, 2.4424, 0.0641, 0.0641, 0.064, 0.064, 0.064, 0.064, 0.064, 0.064, 0.064, 0.064, 0.064, 0.064, 0.064, 0.064, 0.064, 0.064, 0.064, 0.0639, 0.0639, 0.0639, 0.0639, 0.0639, 0.0638, 0.0633, 0.0636, 3.0925, 3.0874, 3.0647, 3.0624, 3.0591, 3.0312, 2.9165, 2.9079, 0.0582, 0.0581, 0.058, 0.058, 0.058, 0.058, 0.058, 0.058, 0.0579, 0.0579, 0.0579, 0.0579, 0.0579, 0.0579, 0.0579, 0.0579, 0.0579, 0.0579, 0.0579, 0.0579, 0.0579, 0.0579, 0.0579, 0.0578, 0.0579, 0.0579, 0.0579, 0.0579, 0.0579, 0.0579, 0.0579, 0.0578, 0.0577, 0.0576, 0.057, 0.0579, 3.1573, 3.15, 3.0893, 3.0809, 3.0334, 0.0888, 0.0888, 0.0887, 0.0887, 0.0887, 0.0887, 0.0887, 0.0887, 0.0887, 0.0887, 0.0887, 0.0887, 0.0887, 0.0887, 0.0887, 0.0887, 0.0887, 0.0887, 0.0887, 0.0886, 0.0886, 0.0886, 0.0886, 0.0886, 0.0886, 0.0886, 0.0882, 0.0884, 0.0885, 0.0883, 0.0876, 0.0885, 0.0885, 0.0886, 0.0886, 3.4688, 3.4581, 3.444, 3.4076, 3.3972, 0.1091, 0.109, 0.1089, 0.1089, 0.1089, 0.1089, 0.1088, 0.1088, 0.1088, 0.1088, 0.1088, 0.1088, 0.1088, 0.1088, 0.1088, 0.1088, 0.1088, 0.1088, 0.1088, 0.1088, 0.1088, 0.1088, 0.1088, 0.1088, 0.1088, 0.1088, 0.1087, 0.1081, 0.1085, 0.1087, 0.1087, 0.1087, 0.1088, 0.1087, 3.5449, 0.0546, 0.0545, 0.0545, 0.0545, 0.0545, 0.0545, 0.0545, 0.0545, 0.0545, 0.0545, 0.0545, 0.0545, 0.0545, 0.0545, 0.0544, 0.0544, 0.0544, 0.0544, 0.0544, 0.0543, 0.0543, 0.0543, 0.0543, 0.0543, 0.0543, 0.0543, 0.0543, 0.0543, 0.0543, 0.0542, 0.054, 0.0542, 0.0534, 3.8035, 0.131, 0.131, 0.131, 0.131, 0.131, 0.131, 0.131, 0.1309, 0.1309, 0.1309, 0.1309, 0.1309, 0.1309, 0.1309, 0.1309, 0.1309, 0.1309, 0.1309, 0.1309, 0.1309, 0.1309, 0.1309, 0.1309, 0.1309, 0.1309, 0.1309, 0.1309, 0.1309, 0.1309, 0.1309, 0.1309, 0.1308, 0.1308, 0.1308, 0.13, 0.1305, 0.1306, 0.1299, 3.9606, 0.1541, 0.1541, 0.1541, 0.1541, 0.154, 0.154, 0.154, 0.154, 0.154, 0.154, 0.154, 0.154, 0.154, 0.154, 0.154, 0.154, 0.154, 0.154, 0.154, 0.154, 0.154, 0.154, 0.154, 0.154, 0.154, 0.154, 0.154, 0.154, 0.154, 0.1539, 0.154, 0.1539, 0.1539, 0.1537, 0.1539, 0.1533, 0.1536, 0.1529, 0.1536, 0.1539, 0.1537, 3.9757, 3.9371, 0.0994, 0.0993, 0.0993, 0.0992, 0.0992, 0.0992, 0.0992, 0.0992, 0.0992, 0.0992, 0.0992, 0.0992, 0.0992, 0.0992, 0.0992, 0.0992, 0.0992, 0.0992, 0.0992, 0.0992, 0.0992, 0.0992, 0.0992, 0.0992, 0.0992, 0.0992, 0.0992, 0.0992, 0.0992, 0.0991, 0.0992, 0.0985, 0.0989, 0.099, 0.0992, 0.0988, 4.2665, 4.143, 3.8417, 0.1461, 0.1461, 0.146, 0.146, 0.146, 0.146, 0.146, 0.146, 0.146, 0.146, 0.146, 0.1459, 0.1459, 0.1459, 0.1459, 0.1459, 0.1459, 0.1459, 0.1459, 0.1459, 0.1459, 0.1459, 0.1459, 0.1459, 0.1459, 0.1459, 0.1459, 0.1459, 0.1459, 0.1456, 0.145, 0.1447, 0.1458, 0.1924, 0.1924, 0.1924, 0.1924, 0.1924, 0.1924, 0.1924, 0.1924, 0.1924, 0.1924, 0.1924, 0.1924, 0.1924, 0.1924, 0.1924, 0.1924, 0.1924, 0.1924, 0.1924, 0.1924, 0.1924, 0.1924, 0.1924, 0.1924, 0.1924, 0.1924, 0.1924, 0.1924, 0.1924, 0.1924, 0.1924, 0.1924, -4.3003, -3.617, 0.1924, -3.0953, -5.1243, -3.5568, -1.572, 0.1924, -4.497, -1.5772, -3.3476, -4.6386, -4.3182, 0.1924, -2.3141, -1.5252, 0.1924, 0.1924, 0.1924, 0.1924, 0.1924, 0.1924, 0.1924, 0.1924, 0.1924, 0.1924, 0.1924, 0.1924, 0.1924, 0.1924, 0.1924, 0.1924, 0.1924, 0.1924, 0.1924, 0.1924, 0.1924, 0.1924, 0.1924, 0.1924, 0.1924, 0.1924, 0.1924, 0.1924, 0.1924, 0.1924, 0.1924, 0.1924, -4.3003, -3.617, 0.1924, -3.0953, -5.1243, -3.5568, -1.572, 0.1924, -4.497, -1.5772, -3.3476, -4.6386, -4.3182, 0.1924, -2.3141, -1.5252]}, \"token.table\": {\"Topic\": [4, 18, 10, 3, 12, 6, 2, 2, 7, 9, 11, 3, 2, 3, 3, 5, 9, 12, 18, 15, 3, 7, 7, 10, 3, 5, 6, 10, 12, 8, 8, 6, 9, 10, 1, 10, 17, 13, 3, 6, 3, 11, 4, 4, 12, 5, 5, 4, 7, 1, 7, 9, 10, 8, 11, 18, 17, 1, 13, 2, 11, 5, 13, 4, 2, 9, 9, 2, 5, 1, 10, 2, 5, 7, 6, 13, 2, 5, 5, 4, 7, 11, 14, 7, 7, 2, 3, 6, 11, 9, 4, 11, 2, 8, 1, 1, 9, 6, 5, 5, 5, 7, 9, 2, 2, 16, 4, 11, 10, 5, 8, 8, 8, 13, 3, 4, 5, 5, 2, 7, 2, 2, 10, 8, 9, 12, 9, 7, 4, 9, 2], \"Freq\": [0.9826857563994613, 0.9487935025590811, 0.960544595260117, 0.9584580793242866, 0.853738240588832, 0.9236220455376949, 0.9897267131061379, 0.665272527899966, 0.9706695805735318, 0.9820318254357616, 0.9878395719987532, 0.8342825211318945, 0.9561268437147581, 0.9637600959773343, 0.9884623333782183, 0.9122259459284651, 0.8712330314344674, 0.9891276343993195, 0.6234894659811334, 0.980089829717812, 0.8576870904294321, 0.8028700370448831, 0.9801869884580322, 0.9704568066183432, 0.6220392363655446, 0.32627223726475796, 0.9139968839855601, 0.814040482102113, 0.8949401165539022, 0.9916151615935683, 0.9903521451379896, 0.975372709941446, 0.9836023965443672, 0.9082093863855609, 0.9917644385043498, 0.9865596711791955, 0.980598242630762, 0.9779074407197575, 0.9800479693771512, 0.9941515900784177, 0.9933050107159465, 0.987461430283597, 0.7369599679147043, 0.9052113316705481, 0.9807598600360234, 0.49291171335261763, 0.9604402801033497, 0.945683717978667, 0.830393303104931, 0.9736652462410924, 0.9843378705702477, 0.7971941847722622, 0.9422603014876139, 0.9011073801566291, 0.9583741280829745, 0.7947680097259846, 0.9535590922627868, 0.9991717039832537, 0.9666122692437801, 0.9954214189481987, 0.9601898498888132, 0.9777174166227822, 0.8835773272375606, 0.9948049187410338, 0.9773697621032449, 0.880936067509508, 0.8694278969436272, 0.9921832106208168, 0.5403167037506783, 0.9792179029805587, 0.9163032620843363, 0.831446767762046, 0.4056626209615418, 0.9819344333248433, 0.9082927693388297, 0.9409621672490592, 0.9492690800156436, 0.9440956005878999, 0.8751122310840521, 0.8452429696218648, 0.8285025748260644, 0.972092854878613, 0.9944240483963608, 0.9839738177590093, 0.8811695312348496, 0.9914915461765614, 0.9961580982628713, 0.9803497822618551, 0.8695429597876144, 0.8510349542928483, 0.9858208945384522, 0.8049614570625253, 0.8271149163781913, 0.9877768717771023, 0.9613126615259314, 0.4083308923013103, 0.6924285520980684, 0.9949619517235797, 0.9906270628817417, 0.9947054160640104, 0.990742675539584, 0.9841387756854378, 0.6879599283228734, 0.9962345659421314, 0.9772162027888016, 0.9607673310716831, 0.9685117890310238, 0.9485856372983401, 0.5138817500142087, 0.8181471320540863, 0.4785015116135195, 0.9412196346094568, 0.8752684224881592, 0.9330447886099256, 0.9979824604780734, 0.9961635744499056, 0.9897268402195882, 0.9701231494409056, 0.9602483417926886, 0.9895239003922088, 0.5585462448819845, 0.9940048814162937, 0.98749472509473, 0.9742386942690336, 0.9490015135433054, 0.9401014478343072, 0.9676060925237782, 0.7348800884554844, 0.9864661182358384, 0.992015103914728, 0.9899813447486099], \"Term\": [\"Let\", \"Look\", \"Yes\", \"a man\", \"a sort\", \"account\", \"ago\", \"ain\", \"all hands\", \"all this\", \"aloft\", \"answer\", \"bear\", \"believe\", \"better\", \"bound\", \"bringing\", \"came\", \"carries\", \"come\", \"considering\", \"content\", \"deep\", \"drawn\", \"earnestly\", \"enjoy\", \"especially\", \"every one\", \"exactly\", \"far\", \"feel\", \"find\", \"fixed\", \"formed\", \"goes\", \"going\", \"gone\", \"grow\", \"having\", \"heard\", \"heaven\", \"high\", \"his feet\", \"his legs\", \"hold\", \"honor\", \"hours\", \"infallibly\", \"invest\", \"jump\", \"knew\", \"knowing\", \"knows\", \"land\", \"leaning\", \"leaves\", \"left\", \"like\", \"little\", \"long\", \"looking\", \"making\", \"mean\", \"men\", \"mind\", \"my soul\", \"needs\", \"nigh\", \"no one\", \"order\", \"orders\", \"particular\", \"particularly\", \"passed\", \"pausing\", \"pay\", \"possibly\", \"previous\", \"putting\", \"quietly\", \"receiving\", \"right\", \"round\", \"run\", \"sadly\", \"sail\", \"saw\", \"sea\", \"seated\", \"served\", \"set\", \"ships\", \"shore\", \"sight\", \"sleep\", \"sleeps\", \"some time\", \"soon\", \"speak\", \"stand\", \"straight\", \"suddenly\", \"supplied\", \"t\", \"taking\", \"tell\", \"that man\", \"the bulwarks\", \"the decks\", \"the land\", \"the most part\", \"the quarter deck\", \"the sailors\", \"the same time\", \"the sea\", \"the ship\", \"the water\", \"the world\", \"thing\", \"think\", \"this sort\", \"thought\", \"time\", \"told\", \"try\", \"vain\", \"view\", \"visit\", \"water\", \"way\", \"years\"]}, \"R\": 30, \"lambda.step\": 0.01, \"plot.opts\": {\"xlab\": \"PC1\", \"ylab\": \"PC2\"}, \"topic.order\": [3, 4, 20, 9, 12, 10, 17, 15, 2, 19, 1, 8, 5, 16, 7, 6, 11, 14, 18, 13]};\n",
       "\n",
       "function LDAvis_load_lib(url, callback){\n",
       "  var s = document.createElement('script');\n",
       "  s.src = url;\n",
       "  s.async = true;\n",
       "  s.onreadystatechange = s.onload = callback;\n",
       "  s.onerror = function(){console.warn(\"failed to load library \" + url);};\n",
       "  document.getElementsByTagName(\"head\")[0].appendChild(s);\n",
       "}\n",
       "\n",
       "if(typeof(LDAvis) !== \"undefined\"){\n",
       "   // already loaded: just create the visualization\n",
       "   !function(LDAvis){\n",
       "       new LDAvis(\"#\" + \"ldavis_el10271618791683104487032260135\", ldavis_el10271618791683104487032260135_data);\n",
       "   }(LDAvis);\n",
       "}else if(typeof define === \"function\" && define.amd){\n",
       "   // require.js is available: use it to load d3/LDAvis\n",
       "   require.config({paths: {d3: \"https://d3js.org/d3.v5\"}});\n",
       "   require([\"d3\"], function(d3){\n",
       "      window.d3 = d3;\n",
       "      LDAvis_load_lib(\"https://cdn.jsdelivr.net/gh/bmabey/pyLDAvis@3.4.0/pyLDAvis/js/ldavis.v3.0.0.js\", function(){\n",
       "        new LDAvis(\"#\" + \"ldavis_el10271618791683104487032260135\", ldavis_el10271618791683104487032260135_data);\n",
       "      });\n",
       "    });\n",
       "}else{\n",
       "    // require.js not available: dynamically load d3 & LDAvis\n",
       "    LDAvis_load_lib(\"https://d3js.org/d3.v5.js\", function(){\n",
       "         LDAvis_load_lib(\"https://cdn.jsdelivr.net/gh/bmabey/pyLDAvis@3.4.0/pyLDAvis/js/ldavis.v3.0.0.js\", function(){\n",
       "                 new LDAvis(\"#\" + \"ldavis_el10271618791683104487032260135\", ldavis_el10271618791683104487032260135_data);\n",
       "            })\n",
       "         });\n",
       "}\n",
       "</script>"
      ],
      "text/plain": [
       "PreparedData(topic_coordinates=              x         y  topics  cluster       Freq\n",
       "topic                                                \n",
       "2     -0.093777  0.066160       1        1  13.006061\n",
       "3      0.002425 -0.048577       2        1  12.520831\n",
       "19     0.084719  0.075764       3        1   8.920304\n",
       "8      0.001562 -0.025202       4        1   7.795417\n",
       "11     0.001085 -0.015836       5        1   7.140370\n",
       "9      0.000762 -0.010438       6        1   6.443993\n",
       "16     0.000815 -0.011272       7        1   6.131247\n",
       "14     0.000889 -0.012465       8        1   5.162874\n",
       "1      0.000398 -0.005079       9        1   5.056550\n",
       "18     0.000373 -0.004728      10        1   4.763272\n",
       "0      0.000413 -0.005279      11        1   4.488922\n",
       "7      0.000232 -0.002824      12        1   4.209278\n",
       "4      0.000126 -0.001445      13        1   3.035209\n",
       "15     0.000448 -0.005768      14        1   2.869046\n",
       "6      0.000023 -0.000114      15        1   2.189766\n",
       "5     -0.000085  0.001259      16        1   1.842548\n",
       "10     0.000179 -0.002121      17        1   1.841458\n",
       "13    -0.000049  0.000803      18        1   1.331550\n",
       "17    -0.000268  0.003581      19        1   0.627407\n",
       "12    -0.000268  0.003581      20        1   0.623898, topic_info=         Term         Freq        Total Category  logprob  loglift\n",
       "107      like  2182.000000  2182.000000  Default  30.0000  30.0000\n",
       "534   the sea   833.000000   833.000000  Default  29.0000  29.0000\n",
       "62   the ship   481.000000   481.000000  Default  28.0000  28.0000\n",
       "76      round   285.000000   285.000000  Default  27.0000  27.0000\n",
       "304       saw   425.000000   425.000000  Default  26.0000  26.0000\n",
       "..        ...          ...          ...      ...      ...      ...\n",
       "17    thought     0.014022   232.393225  Topic20 -10.4355  -4.6386\n",
       "18      years     0.014022   168.690047  Topic20 -10.4355  -4.3182\n",
       "20    driving     0.014022     1.854192  Topic20 -10.4355   0.1924\n",
       "27    account     0.014022    22.736573  Topic20 -10.4355  -2.3141\n",
       "28   bringing     0.014022    10.330187  Topic20 -10.4355  -1.5252\n",
       "\n",
       "[826 rows x 6 columns], token_table=      Topic      Freq    Term\n",
       "term                         \n",
       "184       4  0.982686     Let\n",
       "96       18  0.948794    Look\n",
       "205      10  0.960545     Yes\n",
       "477       3  0.958458   a man\n",
       "354      12  0.853738  a sort\n",
       "...     ...       ...     ...\n",
       "455       9  0.967606    view\n",
       "257       7  0.734880   visit\n",
       "196       4  0.986466   water\n",
       "456       9  0.992015     way\n",
       "18        2  0.989981   years\n",
       "\n",
       "[131 rows x 3 columns], R=30, lambda_step=0.01, plot_opts={'xlab': 'PC1', 'ylab': 'PC2'}, topic_order=[3, 4, 20, 9, 12, 10, 17, 15, 2, 19, 1, 8, 5, 16, 7, 6, 11, 14, 18, 13])"
      ]
     },
     "execution_count": 23,
     "metadata": {},
     "output_type": "execute_result"
    }
   ],
   "source": [
    "gensimvis.prepare(lda_model, corpus, id2word)"
   ]
  }
 ],
 "metadata": {
  "kernelspec": {
   "display_name": "venv",
   "language": "python",
   "name": "python3"
  },
  "language_info": {
   "codemirror_mode": {
    "name": "ipython",
    "version": 3
   },
   "file_extension": ".py",
   "mimetype": "text/x-python",
   "name": "python",
   "nbconvert_exporter": "python",
   "pygments_lexer": "ipython3",
   "version": "3.10.9"
  }
 },
 "nbformat": 4,
 "nbformat_minor": 2
}
